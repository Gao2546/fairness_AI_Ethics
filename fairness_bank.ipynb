{
 "cells": [
  {
   "cell_type": "code",
   "execution_count": 1,
   "metadata": {},
   "outputs": [],
   "source": [
    "from utils.util import *\n",
    "from matplotlib import pyplot as plt\n",
    "import torch.optim as optim\n",
    "import gc\n",
    "# Set seed for reproducibility\n",
    "torch.manual_seed(42)\n",
    "device = torch.device('cuda' if torch.cuda.is_available() else 'cpu')"
   ]
  },
  {
   "cell_type": "code",
   "execution_count": 2,
   "metadata": {},
   "outputs": [],
   "source": [
    "data = Loader(data_dir=\"data\").load_csv(file_name=\"Churn_Modelling.csv\")\n",
    "# data1 = Loader(data_dir=\"data/home-credit-default-risk\").load_csv(file_name=\"bureau_balance.csv\")\n",
    "# data2 = Loader(data_dir=\"data/home-credit-default-risk\").load_csv(file_name=\"bureau.csv\")\n",
    "# data3 = Loader(data_dir=\"data/home-credit-default-risk\").load_csv(file_name=\"credit_card_balance.csv\")\n",
    "# data4 = Loader(data_dir=\"data/home-credit-default-risk\").load_csv(file_name=\"HomeCredit_columns_description.csv\")\n",
    "# data5 = Loader(data_dir=\"data/home-credit-default-risk\").load_csv(file_name=\"installments_payments.csv\")\n",
    "# data6 = Loader(data_dir=\"data/home-credit-default-risk\").load_csv(file_name=\"POS_CASH_balance.csv\")\n",
    "# data7 = Loader(data_dir=\"data/home-credit-default-risk\").load_csv(file_name=\"previous_application.csv\")\n",
    "# data8 = Loader(data_dir=\"data/home-credit-default-risk\").load_csv(file_name=\"sample_submission.csv\")"
   ]
  },
  {
   "cell_type": "code",
   "execution_count": 3,
   "metadata": {},
   "outputs": [],
   "source": [
    "# del data #data3 data4 data5 data6 data7 data8\n",
    "# gc.collect()"
   ]
  },
  {
   "cell_type": "code",
   "execution_count": 4,
   "metadata": {},
   "outputs": [
    {
     "data": {
      "text/html": [
       "<div>\n",
       "<style scoped>\n",
       "    .dataframe tbody tr th:only-of-type {\n",
       "        vertical-align: middle;\n",
       "    }\n",
       "\n",
       "    .dataframe tbody tr th {\n",
       "        vertical-align: top;\n",
       "    }\n",
       "\n",
       "    .dataframe thead th {\n",
       "        text-align: right;\n",
       "    }\n",
       "</style>\n",
       "<table border=\"1\" class=\"dataframe\">\n",
       "  <thead>\n",
       "    <tr style=\"text-align: right;\">\n",
       "      <th></th>\n",
       "      <th>RowNumber</th>\n",
       "      <th>CustomerId</th>\n",
       "      <th>Surname</th>\n",
       "      <th>CreditScore</th>\n",
       "      <th>Geography</th>\n",
       "      <th>Gender</th>\n",
       "      <th>Age</th>\n",
       "      <th>Tenure</th>\n",
       "      <th>Balance</th>\n",
       "      <th>NumOfProducts</th>\n",
       "      <th>HasCrCard</th>\n",
       "      <th>IsActiveMember</th>\n",
       "      <th>EstimatedSalary</th>\n",
       "      <th>Exited</th>\n",
       "    </tr>\n",
       "  </thead>\n",
       "  <tbody>\n",
       "    <tr>\n",
       "      <th>0</th>\n",
       "      <td>1</td>\n",
       "      <td>15634602</td>\n",
       "      <td>Hargrave</td>\n",
       "      <td>619</td>\n",
       "      <td>France</td>\n",
       "      <td>Female</td>\n",
       "      <td>42</td>\n",
       "      <td>2</td>\n",
       "      <td>0.00</td>\n",
       "      <td>1</td>\n",
       "      <td>1</td>\n",
       "      <td>1</td>\n",
       "      <td>101348.88</td>\n",
       "      <td>1</td>\n",
       "    </tr>\n",
       "    <tr>\n",
       "      <th>1</th>\n",
       "      <td>2</td>\n",
       "      <td>15647311</td>\n",
       "      <td>Hill</td>\n",
       "      <td>608</td>\n",
       "      <td>Spain</td>\n",
       "      <td>Female</td>\n",
       "      <td>41</td>\n",
       "      <td>1</td>\n",
       "      <td>83807.86</td>\n",
       "      <td>1</td>\n",
       "      <td>0</td>\n",
       "      <td>1</td>\n",
       "      <td>112542.58</td>\n",
       "      <td>0</td>\n",
       "    </tr>\n",
       "    <tr>\n",
       "      <th>2</th>\n",
       "      <td>3</td>\n",
       "      <td>15619304</td>\n",
       "      <td>Onio</td>\n",
       "      <td>502</td>\n",
       "      <td>France</td>\n",
       "      <td>Female</td>\n",
       "      <td>42</td>\n",
       "      <td>8</td>\n",
       "      <td>159660.80</td>\n",
       "      <td>3</td>\n",
       "      <td>1</td>\n",
       "      <td>0</td>\n",
       "      <td>113931.57</td>\n",
       "      <td>1</td>\n",
       "    </tr>\n",
       "    <tr>\n",
       "      <th>3</th>\n",
       "      <td>4</td>\n",
       "      <td>15701354</td>\n",
       "      <td>Boni</td>\n",
       "      <td>699</td>\n",
       "      <td>France</td>\n",
       "      <td>Female</td>\n",
       "      <td>39</td>\n",
       "      <td>1</td>\n",
       "      <td>0.00</td>\n",
       "      <td>2</td>\n",
       "      <td>0</td>\n",
       "      <td>0</td>\n",
       "      <td>93826.63</td>\n",
       "      <td>0</td>\n",
       "    </tr>\n",
       "    <tr>\n",
       "      <th>4</th>\n",
       "      <td>5</td>\n",
       "      <td>15737888</td>\n",
       "      <td>Mitchell</td>\n",
       "      <td>850</td>\n",
       "      <td>Spain</td>\n",
       "      <td>Female</td>\n",
       "      <td>43</td>\n",
       "      <td>2</td>\n",
       "      <td>125510.82</td>\n",
       "      <td>1</td>\n",
       "      <td>1</td>\n",
       "      <td>1</td>\n",
       "      <td>79084.10</td>\n",
       "      <td>0</td>\n",
       "    </tr>\n",
       "    <tr>\n",
       "      <th>...</th>\n",
       "      <td>...</td>\n",
       "      <td>...</td>\n",
       "      <td>...</td>\n",
       "      <td>...</td>\n",
       "      <td>...</td>\n",
       "      <td>...</td>\n",
       "      <td>...</td>\n",
       "      <td>...</td>\n",
       "      <td>...</td>\n",
       "      <td>...</td>\n",
       "      <td>...</td>\n",
       "      <td>...</td>\n",
       "      <td>...</td>\n",
       "      <td>...</td>\n",
       "    </tr>\n",
       "    <tr>\n",
       "      <th>9995</th>\n",
       "      <td>9996</td>\n",
       "      <td>15606229</td>\n",
       "      <td>Obijiaku</td>\n",
       "      <td>771</td>\n",
       "      <td>France</td>\n",
       "      <td>Male</td>\n",
       "      <td>39</td>\n",
       "      <td>5</td>\n",
       "      <td>0.00</td>\n",
       "      <td>2</td>\n",
       "      <td>1</td>\n",
       "      <td>0</td>\n",
       "      <td>96270.64</td>\n",
       "      <td>0</td>\n",
       "    </tr>\n",
       "    <tr>\n",
       "      <th>9996</th>\n",
       "      <td>9997</td>\n",
       "      <td>15569892</td>\n",
       "      <td>Johnstone</td>\n",
       "      <td>516</td>\n",
       "      <td>France</td>\n",
       "      <td>Male</td>\n",
       "      <td>35</td>\n",
       "      <td>10</td>\n",
       "      <td>57369.61</td>\n",
       "      <td>1</td>\n",
       "      <td>1</td>\n",
       "      <td>1</td>\n",
       "      <td>101699.77</td>\n",
       "      <td>0</td>\n",
       "    </tr>\n",
       "    <tr>\n",
       "      <th>9997</th>\n",
       "      <td>9998</td>\n",
       "      <td>15584532</td>\n",
       "      <td>Liu</td>\n",
       "      <td>709</td>\n",
       "      <td>France</td>\n",
       "      <td>Female</td>\n",
       "      <td>36</td>\n",
       "      <td>7</td>\n",
       "      <td>0.00</td>\n",
       "      <td>1</td>\n",
       "      <td>0</td>\n",
       "      <td>1</td>\n",
       "      <td>42085.58</td>\n",
       "      <td>1</td>\n",
       "    </tr>\n",
       "    <tr>\n",
       "      <th>9998</th>\n",
       "      <td>9999</td>\n",
       "      <td>15682355</td>\n",
       "      <td>Sabbatini</td>\n",
       "      <td>772</td>\n",
       "      <td>Germany</td>\n",
       "      <td>Male</td>\n",
       "      <td>42</td>\n",
       "      <td>3</td>\n",
       "      <td>75075.31</td>\n",
       "      <td>2</td>\n",
       "      <td>1</td>\n",
       "      <td>0</td>\n",
       "      <td>92888.52</td>\n",
       "      <td>1</td>\n",
       "    </tr>\n",
       "    <tr>\n",
       "      <th>9999</th>\n",
       "      <td>10000</td>\n",
       "      <td>15628319</td>\n",
       "      <td>Walker</td>\n",
       "      <td>792</td>\n",
       "      <td>France</td>\n",
       "      <td>Female</td>\n",
       "      <td>28</td>\n",
       "      <td>4</td>\n",
       "      <td>130142.79</td>\n",
       "      <td>1</td>\n",
       "      <td>1</td>\n",
       "      <td>0</td>\n",
       "      <td>38190.78</td>\n",
       "      <td>0</td>\n",
       "    </tr>\n",
       "  </tbody>\n",
       "</table>\n",
       "<p>10000 rows × 14 columns</p>\n",
       "</div>"
      ],
      "text/plain": [
       "      RowNumber  CustomerId    Surname  CreditScore Geography  Gender  Age  \\\n",
       "0             1    15634602   Hargrave          619    France  Female   42   \n",
       "1             2    15647311       Hill          608     Spain  Female   41   \n",
       "2             3    15619304       Onio          502    France  Female   42   \n",
       "3             4    15701354       Boni          699    France  Female   39   \n",
       "4             5    15737888   Mitchell          850     Spain  Female   43   \n",
       "...         ...         ...        ...          ...       ...     ...  ...   \n",
       "9995       9996    15606229   Obijiaku          771    France    Male   39   \n",
       "9996       9997    15569892  Johnstone          516    France    Male   35   \n",
       "9997       9998    15584532        Liu          709    France  Female   36   \n",
       "9998       9999    15682355  Sabbatini          772   Germany    Male   42   \n",
       "9999      10000    15628319     Walker          792    France  Female   28   \n",
       "\n",
       "      Tenure    Balance  NumOfProducts  HasCrCard  IsActiveMember  \\\n",
       "0          2       0.00              1          1               1   \n",
       "1          1   83807.86              1          0               1   \n",
       "2          8  159660.80              3          1               0   \n",
       "3          1       0.00              2          0               0   \n",
       "4          2  125510.82              1          1               1   \n",
       "...      ...        ...            ...        ...             ...   \n",
       "9995       5       0.00              2          1               0   \n",
       "9996      10   57369.61              1          1               1   \n",
       "9997       7       0.00              1          0               1   \n",
       "9998       3   75075.31              2          1               0   \n",
       "9999       4  130142.79              1          1               0   \n",
       "\n",
       "      EstimatedSalary  Exited  \n",
       "0           101348.88       1  \n",
       "1           112542.58       0  \n",
       "2           113931.57       1  \n",
       "3            93826.63       0  \n",
       "4            79084.10       0  \n",
       "...               ...     ...  \n",
       "9995         96270.64       0  \n",
       "9996        101699.77       0  \n",
       "9997         42085.58       1  \n",
       "9998         92888.52       1  \n",
       "9999         38190.78       0  \n",
       "\n",
       "[10000 rows x 14 columns]"
      ]
     },
     "execution_count": 4,
     "metadata": {},
     "output_type": "execute_result"
    }
   ],
   "source": [
    "data"
   ]
  },
  {
   "cell_type": "code",
   "execution_count": 5,
   "metadata": {},
   "outputs": [],
   "source": [
    "unfair_features = \"Gender\"\n",
    "target = \"Exited\""
   ]
  },
  {
   "cell_type": "code",
   "execution_count": 6,
   "metadata": {},
   "outputs": [
    {
     "data": {
      "text/plain": [
       "<Axes: xlabel='Gender'>"
      ]
     },
     "execution_count": 6,
     "metadata": {},
     "output_type": "execute_result"
    },
    {
     "data": {
      "image/png": "[encoded data removed]",
      "text/plain": [
       "<Figure size 640x480 with 1 Axes>"
      ]
     },
     "metadata": {},
     "output_type": "display_data"
    }
   ],
   "source": [
    "data[unfair_features].value_counts().plot(kind='bar')"
   ]
  },
  {
   "cell_type": "code",
   "execution_count": 7,
   "metadata": {},
   "outputs": [],
   "source": [
    "count_columns = data.columns"
   ]
  },
  {
   "cell_type": "code",
   "execution_count": 8,
   "metadata": {},
   "outputs": [
    {
     "name": "stdout",
     "output_type": "stream",
     "text": [
      "RowNumber\n",
      "CustomerId\n",
      "Surname\n",
      "CreditScore\n",
      "Geography\n",
      "Gender\n",
      "Age\n",
      "Tenure\n",
      "Balance\n",
      "NumOfProducts\n",
      "HasCrCard\n",
      "IsActiveMember\n",
      "EstimatedSalary\n",
      "Exited\n"
     ]
    }
   ],
   "source": [
    "for i in count_columns:\n",
    "    print(i)"
   ]
  },
  {
   "cell_type": "code",
   "execution_count": 9,
   "metadata": {},
   "outputs": [],
   "source": [
    "important_features = [\n",
    "    \"AMT_INCOME_TOTAL\",  # Applicant's income level\n",
    "    \"AMT_CREDIT\",  # Loan amount requested\n",
    "    \"AMT_ANNUITY\",  # Monthly installment amount\n",
    "    \"AMT_GOODS_PRICE\",  # Value of the house\n",
    "    \"DAYS_EMPLOYED\",  # Employment history (longer employment = more stable)\n",
    "    \"NAME_INCOME_TYPE\",  # Type of income (e.g., Working, Business, Pensioner)\n",
    "    \"NAME_EDUCATION_TYPE\",  # Education level (higher education may correlate with stability)\n",
    "    # \"OCCUPATION_TYPE\",  # Type of job (some jobs are riskier than others)\n",
    "    \"CNT_CHILDREN\",  # Number of children (affects financial burden)\n",
    "    \"CNT_FAM_MEMBERS\",  # Total family members (affects living expenses)\n",
    "    \"REGION_RATING_CLIENT\",  # Risk rating of applicant's region\n",
    "    \"EXT_SOURCE_2\", #\"EXT_SOURCE_1\", \"EXT_SOURCE_3\",  # External credit score sources\n",
    "    \"DAYS_BIRTH\",  # Age of applicant (younger applicants might have less credit history)\n",
    "    \"REG_CITY_NOT_WORK_CITY\",  # If applicant's work and home city differ (stability factor)\n",
    "    \"LIVE_REGION_NOT_WORK_REGION\",  # If applicant lives far from work region\n",
    "    \"FLAG_EMP_PHONE\",  # Verified employment phone number (adds credibility)\n",
    "    # \"AMT_REQ_CREDIT_BUREAU_YEAR\"  # Number of credit inquiries in the past year (high = risky)\n",
    "]\n",
    "\n",
    "irrelevant_features = [\n",
    "    \"SK_ID_CURR\",  # Just an ID, no predictive value\n",
    "    \"FLAG_MOBIL\",  # Almost always 1 (not useful for prediction)\n",
    "    \"FLAG_CONT_MOBILE\",  # Mobile phone continuity doesn't reflect creditworthiness\n",
    "    \"FLAG_PHONE\",  # Having a phone number isn't a strong predictor\n",
    "    \"FLAG_EMAIL\",  # Having an email doesn’t impact financial status\n",
    "    \"DAYS_REGISTRATION\",  # Registration date is unrelated to loan approval\n",
    "    \"DAYS_ID_PUBLISH\",  # Date of ID issue has no real impact\n",
    "    \"OWN_CAR_AGE\",  # Age of the car doesn’t determine loan approval\n",
    "    \"WEEKDAY_APPR_PROCESS_START\",  # Day of application is irrelevant\n",
    "    \"HOUR_APPR_PROCESS_START\",  # Hour of application is not a strong factor\n",
    "    \"REG_REGION_NOT_LIVE_REGION\",  # Registration vs. living region mismatch isn't key\n",
    "    \"REG_REGION_NOT_WORK_REGION\",  # Registration vs. work region mismatch is minor\n",
    "    \"LIVE_CITY_NOT_WORK_CITY\",  # Not a strong determinant for loan approval\n",
    "    \"FONDKAPREMONT_MODE\",  # Home repair fund info isn't relevant\n",
    "    \"EMERGENCYSTATE_MODE\",  # Emergency state info doesn’t impact approval\n",
    "    \"OBS_30_CNT_SOCIAL_CIRCLE\",  # Social circle observations not useful\n",
    "    \"DEF_30_CNT_SOCIAL_CIRCLE\",  # Defaults in social circle are weak predictors\n",
    "    \"OBS_60_CNT_SOCIAL_CIRCLE\",  # Same as above, for 60 days\n",
    "    \"DEF_60_CNT_SOCIAL_CIRCLE\",  # Same as above, for 60 days\n",
    "    \"DAYS_LAST_PHONE_CHANGE\",  # Changing phone doesn't impact loan approval\n",
    "    \"FLAG_DOCUMENT_2\", \"FLAG_DOCUMENT_3\", \"FLAG_DOCUMENT_4\",  \n",
    "    \"FLAG_DOCUMENT_5\", \"FLAG_DOCUMENT_6\", \"FLAG_DOCUMENT_7\",  \n",
    "    \"FLAG_DOCUMENT_8\", \"FLAG_DOCUMENT_9\", \"FLAG_DOCUMENT_10\",  \n",
    "    \"FLAG_DOCUMENT_11\", \"FLAG_DOCUMENT_12\", \"FLAG_DOCUMENT_13\",  \n",
    "    \"FLAG_DOCUMENT_14\", \"FLAG_DOCUMENT_15\", \"FLAG_DOCUMENT_16\",  \n",
    "    \"FLAG_DOCUMENT_17\", \"FLAG_DOCUMENT_18\", \"FLAG_DOCUMENT_19\",  \n",
    "    \"FLAG_DOCUMENT_20\", \"FLAG_DOCUMENT_21\",  # Document flags have little effect on approval\n",
    "    \"APARTMENTS_AVG\", \"BASEMENTAREA_AVG\", \"YEARS_BEGINEXPLUATATION_AVG\",  \n",
    "    \"YEARS_BUILD_AVG\", \"COMMONAREA_AVG\", \"ELEVATORS_AVG\", \"ENTRANCES_AVG\",  \n",
    "    \"FLOORSMAX_AVG\", \"FLOORSMIN_AVG\", \"LANDAREA_AVG\", \"LIVINGAPARTMENTS_AVG\",  \n",
    "    \"LIVINGAREA_AVG\", \"NONLIVINGAPARTMENTS_AVG\", \"NONLIVINGAREA_AVG\",  \n",
    "    \"APARTMENTS_MODE\", \"BASEMENTAREA_MODE\", \"YEARS_BEGINEXPLUATATION_MODE\",  \n",
    "    \"YEARS_BUILD_MODE\", \"COMMONAREA_MODE\", \"ELEVATORS_MODE\", \"ENTRANCES_MODE\",  \n",
    "    \"FLOORSMAX_MODE\", \"FLOORSMIN_MODE\", \"LANDAREA_MODE\", \"LIVINGAPARTMENTS_MODE\",  \n",
    "    \"LIVINGAREA_MODE\", \"NONLIVINGAPARTMENTS_MODE\", \"NONLIVINGAREA_MODE\",  \n",
    "    \"APARTMENTS_MEDI\", \"BASEMENTAREA_MEDI\", \"YEARS_BEGINEXPLUATATION_MEDI\",  \n",
    "    \"YEARS_BUILD_MEDI\", \"COMMONAREA_MEDI\", \"ELEVATORS_MEDI\", \"ENTRANCES_MEDI\",  \n",
    "    \"FLOORSMAX_MEDI\", \"FLOORSMIN_MEDI\", \"LANDAREA_MEDI\", \"LIVINGAPARTMENTS_MEDI\",  \n",
    "    \"LIVINGAREA_MEDI\", \"NONLIVINGAPARTMENTS_MEDI\", \"NONLIVINGAREA_MEDI\",  \n",
    "    \"TOTALAREA_MODE\",# \"HOUSETYPE_MODE\", \"TOTALAREA_MODE\", \"WALLSMATERIAL_MODE\",  # Property features not always available\n",
    "    \"AMT_REQ_CREDIT_BUREAU_HOUR\", \"AMT_REQ_CREDIT_BUREAU_DAY\",  \n",
    "    \"AMT_REQ_CREDIT_BUREAU_WEEK\", \"AMT_REQ_CREDIT_BUREAU_MON\",  \n",
    "    \"AMT_REQ_CREDIT_BUREAU_QRT\"  # Frequency of credit bureau inquiries isn't a strong factor\n",
    "]\n",
    "\n",
    "unfairness_risk_features = [\n",
    "    \"CODE_GENDER\",  # Gender bias (e.g., females may have different approval rates)\n",
    "    \"FLAG_OWN_CAR\",  # Owning a car might not be a fair creditworthiness factor\n",
    "    \"FLAG_OWN_REALTY\",  # Homeownership may favor wealthier applicants\n",
    "    \"NAME_FAMILY_STATUS\",  # Family status might introduce bias (e.g., single vs. married)\n",
    "    \"NAME_HOUSING_TYPE\",  # Housing type may reflect economic background\n",
    "    \"REGION_POPULATION_RELATIVE\",  # Population density may be a proxy for economic status\n",
    "    \"ORGANIZATION_TYPE\",  # Some job sectors might be unfairly penalized\n",
    "    \"DAYS_BIRTH\",  # Age-based discrimination (older/younger applicants may be treated unfairly)\n",
    "    \"OCCUPATION_TYPE\",  # Some jobs may be historically underpaid but still creditworthy\n",
    "    \"REGION_RATING_CLIENT_W_CITY\",  # Regional bias based on location\n",
    "    \"WALLSMATERIAL_MODE\",  # Type of house construction could introduce socioeconomic bias\n",
    "    \"HOUSETYPE_MODE\"  # House type may unfairly impact approval chances\n",
    "]\n",
    "\n",
    "target = [\"TARGET\"]\n"
   ]
  },
  {
   "cell_type": "code",
   "execution_count": 10,
   "metadata": {},
   "outputs": [],
   "source": [
    "data = data.drop(columns=[\"RowNumber\", \"CustomerId\", \"Surname\", \"Geography\"]) # drop unuseage column\n",
    "# data = data[list(set(important_features + unfairness_risk_features + target))] # reorder columns\n",
    "# Identify columns with more than 10,000 missing values\n",
    "\n",
    "# cols_to_drop = [col for col in data.columns if data[col].isnull().sum() > 10000] + [\"SK_ID_CURR\"]\n",
    "# Drop those columns\n",
    "# data = data.drop(columns=cols_to_drop)\n",
    "# data = data[data[\"Gender\"] != \"Gender\"] # drop rows with unknown\n",
    "data = data.dropna() # drop rows with missing values\n",
    "data = data.drop_duplicates() # drop duplicates\n",
    "data = data.reset_index(drop=True)"
   ]
  },
  {
   "cell_type": "code",
   "execution_count": 11,
   "metadata": {},
   "outputs": [
    {
     "data": {
      "text/html": [
       "<div>\n",
       "<style scoped>\n",
       "    .dataframe tbody tr th:only-of-type {\n",
       "        vertical-align: middle;\n",
       "    }\n",
       "\n",
       "    .dataframe tbody tr th {\n",
       "        vertical-align: top;\n",
       "    }\n",
       "\n",
       "    .dataframe thead th {\n",
       "        text-align: right;\n",
       "    }\n",
       "</style>\n",
       "<table border=\"1\" class=\"dataframe\">\n",
       "  <thead>\n",
       "    <tr style=\"text-align: right;\">\n",
       "      <th></th>\n",
       "      <th>CreditScore</th>\n",
       "      <th>Gender</th>\n",
       "      <th>Age</th>\n",
       "      <th>Tenure</th>\n",
       "      <th>Balance</th>\n",
       "      <th>NumOfProducts</th>\n",
       "      <th>HasCrCard</th>\n",
       "      <th>IsActiveMember</th>\n",
       "      <th>EstimatedSalary</th>\n",
       "      <th>Exited</th>\n",
       "    </tr>\n",
       "  </thead>\n",
       "  <tbody>\n",
       "    <tr>\n",
       "      <th>0</th>\n",
       "      <td>619</td>\n",
       "      <td>Female</td>\n",
       "      <td>42</td>\n",
       "      <td>2</td>\n",
       "      <td>0.00</td>\n",
       "      <td>1</td>\n",
       "      <td>1</td>\n",
       "      <td>1</td>\n",
       "      <td>101348.88</td>\n",
       "      <td>1</td>\n",
       "    </tr>\n",
       "    <tr>\n",
       "      <th>1</th>\n",
       "      <td>608</td>\n",
       "      <td>Female</td>\n",
       "      <td>41</td>\n",
       "      <td>1</td>\n",
       "      <td>83807.86</td>\n",
       "      <td>1</td>\n",
       "      <td>0</td>\n",
       "      <td>1</td>\n",
       "      <td>112542.58</td>\n",
       "      <td>0</td>\n",
       "    </tr>\n",
       "    <tr>\n",
       "      <th>2</th>\n",
       "      <td>502</td>\n",
       "      <td>Female</td>\n",
       "      <td>42</td>\n",
       "      <td>8</td>\n",
       "      <td>159660.80</td>\n",
       "      <td>3</td>\n",
       "      <td>1</td>\n",
       "      <td>0</td>\n",
       "      <td>113931.57</td>\n",
       "      <td>1</td>\n",
       "    </tr>\n",
       "    <tr>\n",
       "      <th>3</th>\n",
       "      <td>699</td>\n",
       "      <td>Female</td>\n",
       "      <td>39</td>\n",
       "      <td>1</td>\n",
       "      <td>0.00</td>\n",
       "      <td>2</td>\n",
       "      <td>0</td>\n",
       "      <td>0</td>\n",
       "      <td>93826.63</td>\n",
       "      <td>0</td>\n",
       "    </tr>\n",
       "    <tr>\n",
       "      <th>4</th>\n",
       "      <td>850</td>\n",
       "      <td>Female</td>\n",
       "      <td>43</td>\n",
       "      <td>2</td>\n",
       "      <td>125510.82</td>\n",
       "      <td>1</td>\n",
       "      <td>1</td>\n",
       "      <td>1</td>\n",
       "      <td>79084.10</td>\n",
       "      <td>0</td>\n",
       "    </tr>\n",
       "    <tr>\n",
       "      <th>...</th>\n",
       "      <td>...</td>\n",
       "      <td>...</td>\n",
       "      <td>...</td>\n",
       "      <td>...</td>\n",
       "      <td>...</td>\n",
       "      <td>...</td>\n",
       "      <td>...</td>\n",
       "      <td>...</td>\n",
       "      <td>...</td>\n",
       "      <td>...</td>\n",
       "    </tr>\n",
       "    <tr>\n",
       "      <th>9995</th>\n",
       "      <td>771</td>\n",
       "      <td>Male</td>\n",
       "      <td>39</td>\n",
       "      <td>5</td>\n",
       "      <td>0.00</td>\n",
       "      <td>2</td>\n",
       "      <td>1</td>\n",
       "      <td>0</td>\n",
       "      <td>96270.64</td>\n",
       "      <td>0</td>\n",
       "    </tr>\n",
       "    <tr>\n",
       "      <th>9996</th>\n",
       "      <td>516</td>\n",
       "      <td>Male</td>\n",
       "      <td>35</td>\n",
       "      <td>10</td>\n",
       "      <td>57369.61</td>\n",
       "      <td>1</td>\n",
       "      <td>1</td>\n",
       "      <td>1</td>\n",
       "      <td>101699.77</td>\n",
       "      <td>0</td>\n",
       "    </tr>\n",
       "    <tr>\n",
       "      <th>9997</th>\n",
       "      <td>709</td>\n",
       "      <td>Female</td>\n",
       "      <td>36</td>\n",
       "      <td>7</td>\n",
       "      <td>0.00</td>\n",
       "      <td>1</td>\n",
       "      <td>0</td>\n",
       "      <td>1</td>\n",
       "      <td>42085.58</td>\n",
       "      <td>1</td>\n",
       "    </tr>\n",
       "    <tr>\n",
       "      <th>9998</th>\n",
       "      <td>772</td>\n",
       "      <td>Male</td>\n",
       "      <td>42</td>\n",
       "      <td>3</td>\n",
       "      <td>75075.31</td>\n",
       "      <td>2</td>\n",
       "      <td>1</td>\n",
       "      <td>0</td>\n",
       "      <td>92888.52</td>\n",
       "      <td>1</td>\n",
       "    </tr>\n",
       "    <tr>\n",
       "      <th>9999</th>\n",
       "      <td>792</td>\n",
       "      <td>Female</td>\n",
       "      <td>28</td>\n",
       "      <td>4</td>\n",
       "      <td>130142.79</td>\n",
       "      <td>1</td>\n",
       "      <td>1</td>\n",
       "      <td>0</td>\n",
       "      <td>38190.78</td>\n",
       "      <td>0</td>\n",
       "    </tr>\n",
       "  </tbody>\n",
       "</table>\n",
       "<p>10000 rows × 10 columns</p>\n",
       "</div>"
      ],
      "text/plain": [
       "      CreditScore  Gender  Age  Tenure    Balance  NumOfProducts  HasCrCard  \\\n",
       "0             619  Female   42       2       0.00              1          1   \n",
       "1             608  Female   41       1   83807.86              1          0   \n",
       "2             502  Female   42       8  159660.80              3          1   \n",
       "3             699  Female   39       1       0.00              2          0   \n",
       "4             850  Female   43       2  125510.82              1          1   \n",
       "...           ...     ...  ...     ...        ...            ...        ...   \n",
       "9995          771    Male   39       5       0.00              2          1   \n",
       "9996          516    Male   35      10   57369.61              1          1   \n",
       "9997          709  Female   36       7       0.00              1          0   \n",
       "9998          772    Male   42       3   75075.31              2          1   \n",
       "9999          792  Female   28       4  130142.79              1          1   \n",
       "\n",
       "      IsActiveMember  EstimatedSalary  Exited  \n",
       "0                  1        101348.88       1  \n",
       "1                  1        112542.58       0  \n",
       "2                  0        113931.57       1  \n",
       "3                  0         93826.63       0  \n",
       "4                  1         79084.10       0  \n",
       "...              ...              ...     ...  \n",
       "9995               0         96270.64       0  \n",
       "9996               1        101699.77       0  \n",
       "9997               1         42085.58       1  \n",
       "9998               0         92888.52       1  \n",
       "9999               0         38190.78       0  \n",
       "\n",
       "[10000 rows x 10 columns]"
      ]
     },
     "execution_count": 11,
     "metadata": {},
     "output_type": "execute_result"
    }
   ],
   "source": [
    "data"
   ]
  },
  {
   "cell_type": "code",
   "execution_count": null,
   "metadata": {},
   "outputs": [],
   "source": []
  },
  {
   "cell_type": "code",
   "execution_count": 14,
   "metadata": {},
   "outputs": [
    {
     "data": {
      "text/html": [
       "<div>\n",
       "<style scoped>\n",
       "    .dataframe tbody tr th:only-of-type {\n",
       "        vertical-align: middle;\n",
       "    }\n",
       "\n",
       "    .dataframe tbody tr th {\n",
       "        vertical-align: top;\n",
       "    }\n",
       "\n",
       "    .dataframe thead th {\n",
       "        text-align: right;\n",
       "    }\n",
       "</style>\n",
       "<table border=\"1\" class=\"dataframe\">\n",
       "  <thead>\n",
       "    <tr style=\"text-align: right;\">\n",
       "      <th></th>\n",
       "      <th>CreditScore</th>\n",
       "      <th>Gender</th>\n",
       "      <th>Age</th>\n",
       "      <th>Tenure</th>\n",
       "      <th>Balance</th>\n",
       "      <th>NumOfProducts</th>\n",
       "      <th>HasCrCard</th>\n",
       "      <th>IsActiveMember</th>\n",
       "      <th>EstimatedSalary</th>\n",
       "      <th>Exited</th>\n",
       "    </tr>\n",
       "  </thead>\n",
       "  <tbody>\n",
       "    <tr>\n",
       "      <th>0</th>\n",
       "      <td>619</td>\n",
       "      <td>0</td>\n",
       "      <td>42</td>\n",
       "      <td>2</td>\n",
       "      <td>0.00</td>\n",
       "      <td>1</td>\n",
       "      <td>1</td>\n",
       "      <td>1</td>\n",
       "      <td>101348.88</td>\n",
       "      <td>1</td>\n",
       "    </tr>\n",
       "    <tr>\n",
       "      <th>1</th>\n",
       "      <td>608</td>\n",
       "      <td>0</td>\n",
       "      <td>41</td>\n",
       "      <td>1</td>\n",
       "      <td>83807.86</td>\n",
       "      <td>1</td>\n",
       "      <td>0</td>\n",
       "      <td>1</td>\n",
       "      <td>112542.58</td>\n",
       "      <td>0</td>\n",
       "    </tr>\n",
       "    <tr>\n",
       "      <th>2</th>\n",
       "      <td>502</td>\n",
       "      <td>0</td>\n",
       "      <td>42</td>\n",
       "      <td>8</td>\n",
       "      <td>159660.80</td>\n",
       "      <td>3</td>\n",
       "      <td>1</td>\n",
       "      <td>0</td>\n",
       "      <td>113931.57</td>\n",
       "      <td>1</td>\n",
       "    </tr>\n",
       "    <tr>\n",
       "      <th>3</th>\n",
       "      <td>699</td>\n",
       "      <td>0</td>\n",
       "      <td>39</td>\n",
       "      <td>1</td>\n",
       "      <td>0.00</td>\n",
       "      <td>2</td>\n",
       "      <td>0</td>\n",
       "      <td>0</td>\n",
       "      <td>93826.63</td>\n",
       "      <td>0</td>\n",
       "    </tr>\n",
       "    <tr>\n",
       "      <th>4</th>\n",
       "      <td>850</td>\n",
       "      <td>0</td>\n",
       "      <td>43</td>\n",
       "      <td>2</td>\n",
       "      <td>125510.82</td>\n",
       "      <td>1</td>\n",
       "      <td>1</td>\n",
       "      <td>1</td>\n",
       "      <td>79084.10</td>\n",
       "      <td>0</td>\n",
       "    </tr>\n",
       "  </tbody>\n",
       "</table>\n",
       "</div>"
      ],
      "text/plain": [
       "   CreditScore  Gender  Age  Tenure    Balance  NumOfProducts  HasCrCard  \\\n",
       "0          619       0   42       2       0.00              1          1   \n",
       "1          608       0   41       1   83807.86              1          0   \n",
       "2          502       0   42       8  159660.80              3          1   \n",
       "3          699       0   39       1       0.00              2          0   \n",
       "4          850       0   43       2  125510.82              1          1   \n",
       "\n",
       "   IsActiveMember  EstimatedSalary  Exited  \n",
       "0               1        101348.88       1  \n",
       "1               1        112542.58       0  \n",
       "2               0        113931.57       1  \n",
       "3               0         93826.63       0  \n",
       "4               1         79084.10       0  "
      ]
     },
     "execution_count": 14,
     "metadata": {},
     "output_type": "execute_result"
    }
   ],
   "source": [
    "from sklearn.preprocessing import LabelEncoder\n",
    "\n",
    "# Create a label encoder object\n",
    "le = LabelEncoder()\n",
    "\n",
    "# Encode categorical columns\n",
    "categorical_columns = list(data.select_dtypes(include=['object']).columns)\n",
    "for column in categorical_columns:\n",
    "    data[column] = le.fit_transform(data[column])\n",
    "\n",
    "    # Reindex rows\n",
    "    data = data.reset_index(drop=True)\n",
    "\n",
    "data.head()"
   ]
  },
  {
   "cell_type": "code",
   "execution_count": 16,
   "metadata": {},
   "outputs": [
    {
     "name": "stdout",
     "output_type": "stream",
     "text": [
      "Confusion Matrix:\n",
      "[[1511   96]\n",
      " [ 214  179]]\n",
      "Accuracy: 84.50%\n"
     ]
    },
    {
     "name": "stderr",
     "output_type": "stream",
     "text": [
      "/home/athip/psu/32/pitchchaya/fairness/env/pytorch/lib/python3.11/site-packages/xgboost/core.py:158: UserWarning: [01:15:42] WARNING: /workspace/src/learner.cc:740: \n",
      "Parameters: { \"use_label_encoder\" } are not used.\n",
      "\n",
      "  warnings.warn(smsg, UserWarning)\n"
     ]
    }
   ],
   "source": [
    "import xgboost as xgb\n",
    "from sklearn.model_selection import train_test_split\n",
    "from sklearn.metrics import accuracy_score\n",
    "from sklearn.metrics import confusion_matrix\n",
    "\n",
    "# Prepare the data\n",
    "X = data.drop(columns=['Exited'])\n",
    "y = data['Exited']\n",
    "\n",
    "# Split the data into training and testing sets\n",
    "X_train, X_test, y_train, y_test = train_test_split(X, y, test_size=0.2, random_state=42)\n",
    "\n",
    "# Create the XGBoost model\n",
    "model = xgb.XGBClassifier(use_label_encoder=False, eval_metric='logloss')\n",
    "\n",
    "# Train the model\n",
    "model.fit(X_train, y_train)\n",
    "\n",
    "# Make predictions\n",
    "y_pred = model.predict(X_test)\n",
    "\n",
    "# Calculate accuracy\n",
    "# Calculate accuracy\n",
    "accuracy = accuracy_score(y_test, y_pred)\n",
    "\n",
    "# Calculate confusion matrix\n",
    "conf_matrix = confusion_matrix(y_test, y_pred)\n",
    "print(f'Confusion Matrix:\\n{conf_matrix}')\n",
    "print(f'Accuracy: {accuracy * 100:.2f}%')"
   ]
  },
  {
   "cell_type": "code",
   "execution_count": 21,
   "metadata": {},
   "outputs": [
    {
     "data": {
      "text/plain": [
       "94.0261356565028"
      ]
     },
     "execution_count": 21,
     "metadata": {},
     "output_type": "execute_result"
    }
   ],
   "source": [
    "1511/(1511 + 96)*100"
   ]
  },
  {
   "cell_type": "code",
   "execution_count": 23,
   "metadata": {},
   "outputs": [
    {
     "data": {
      "text/plain": [
       "45.5470737913486"
      ]
     },
     "execution_count": 23,
     "metadata": {},
     "output_type": "execute_result"
    }
   ],
   "source": [
    "179/(214 + 179)*100"
   ]
  },
  {
   "cell_type": "code",
   "execution_count": 153,
   "metadata": {},
   "outputs": [
    {
     "data": {
      "text/plain": [
       "Exited\n",
       "0    3404\n",
       "1    1139\n",
       "Name: count, dtype: int64"
      ]
     },
     "execution_count": 153,
     "metadata": {},
     "output_type": "execute_result"
    }
   ],
   "source": [
    "data[data['Gender'] == 0]['Exited'].value_counts()"
   ]
  },
  {
   "cell_type": "code",
   "execution_count": 154,
   "metadata": {},
   "outputs": [
    {
     "data": {
      "text/plain": [
       "Exited\n",
       "0    4559\n",
       "1     898\n",
       "Name: count, dtype: int64"
      ]
     },
     "execution_count": 154,
     "metadata": {},
     "output_type": "execute_result"
    }
   ],
   "source": [
    "data[data['Gender'] == 1]['Exited'].value_counts()"
   ]
  },
  {
   "cell_type": "code",
   "execution_count": 155,
   "metadata": {},
   "outputs": [
    {
     "data": {
      "text/plain": [
       "2.9885864793678665"
      ]
     },
     "execution_count": 155,
     "metadata": {},
     "output_type": "execute_result"
    }
   ],
   "source": [
    "3404/1139"
   ]
  },
  {
   "cell_type": "code",
   "execution_count": 156,
   "metadata": {},
   "outputs": [
    {
     "data": {
      "text/plain": [
       "5.0768374164810695"
      ]
     },
     "execution_count": 156,
     "metadata": {},
     "output_type": "execute_result"
    }
   ],
   "source": [
    "4559/898"
   ]
  },
  {
   "cell_type": "code",
   "execution_count": 157,
   "metadata": {},
   "outputs": [
    {
     "data": {
      "text/plain": [
       "Exited\n",
       "0    3404\n",
       "1    1139\n",
       "Name: count, dtype: int64"
      ]
     },
     "execution_count": 157,
     "metadata": {},
     "output_type": "execute_result"
    }
   ],
   "source": [
    "data[data['Gender'] == 0]['Exited'].value_counts()"
   ]
  },
  {
   "cell_type": "code",
   "execution_count": 158,
   "metadata": {},
   "outputs": [
    {
     "data": {
      "text/plain": [
       "Exited\n",
       "0    4559\n",
       "1     898\n",
       "Name: count, dtype: int64"
      ]
     },
     "execution_count": 158,
     "metadata": {},
     "output_type": "execute_result"
    }
   ],
   "source": [
    "data[data['Gender'] == 1]['Exited'].value_counts()"
   ]
  },
  {
   "cell_type": "code",
   "execution_count": 159,
   "metadata": {},
   "outputs": [
    {
     "data": {
      "text/plain": [
       "Exited\n",
       "0    7963\n",
       "1    2037\n",
       "Name: count, dtype: int64"
      ]
     },
     "execution_count": 159,
     "metadata": {},
     "output_type": "execute_result"
    }
   ],
   "source": [
    "data['Exited'].value_counts()"
   ]
  },
  {
   "cell_type": "code",
   "execution_count": 160,
   "metadata": {},
   "outputs": [],
   "source": [
    "datadrop = data.drop(columns=[\"Gender\"]) # drop column CODE_GENDER"
   ]
  },
  {
   "cell_type": "code",
   "execution_count": 161,
   "metadata": {},
   "outputs": [],
   "source": [
    "datainv = data.copy()\n",
    "datainv['Gender'] = datainv['Gender'].apply(lambda x: 1 - x) #invert columns CODE_GENDER"
   ]
  },
  {
   "cell_type": "code",
   "execution_count": 162,
   "metadata": {},
   "outputs": [],
   "source": [
    "DatasetD = DataSet(data=datadrop, y_col=\"Exited\")\n",
    "train_dataD, test_dataD = DatasetD.get_datasets()\n",
    "train_data_DL, val_data_DL = DatasetD.get_dataloaders(batch_size=2**12)"
   ]
  },
  {
   "cell_type": "code",
   "execution_count": 163,
   "metadata": {},
   "outputs": [],
   "source": [
    "DatasetL = DataSet(data=data, y_col=\"Exited\")\n",
    "train_data, test_data = DatasetL.get_datasets()\n",
    "train_data_L, val_data_L = DatasetL.get_dataloaders(batch_size=round(16))"
   ]
  },
  {
   "cell_type": "code",
   "execution_count": 164,
   "metadata": {},
   "outputs": [],
   "source": [
    "DatasetInvL = DataSet(data=datainv, y_col=\"Exited\")\n",
    "train_dataInv, test_dataInv = DatasetInvL.get_datasets()"
   ]
  },
  {
   "cell_type": "code",
   "execution_count": 165,
   "metadata": {},
   "outputs": [
    {
     "data": {
      "text/plain": [
       "NeuralNetwork(\n",
       "  (layer1): Linear(in_features=9, out_features=16, bias=True)\n",
       "  (layer2): Linear(in_features=16, out_features=32, bias=True)\n",
       "  (layer3): Linear(in_features=32, out_features=64, bias=True)\n",
       "  (layer4): Linear(in_features=64, out_features=32, bias=True)\n",
       "  (layer5): Linear(in_features=32, out_features=16, bias=True)\n",
       "  (output): Linear(in_features=16, out_features=2, bias=True)\n",
       "  (silu): SiLU()\n",
       "  (relu): ReLU()\n",
       "  (dropout): Dropout(p=0.5, inplace=False)\n",
       "  (normalization1): BatchNorm1d(16, eps=1e-05, momentum=0.1, affine=True, track_running_stats=True)\n",
       "  (normalization0): BatchNorm1d(9, eps=1e-05, momentum=0.1, affine=True, track_running_stats=True)\n",
       "  (normalization3): BatchNorm1d(64, eps=1e-05, momentum=0.1, affine=True, track_running_stats=True)\n",
       "  (sigmoid): Sigmoid()\n",
       ")"
      ]
     },
     "execution_count": 165,
     "metadata": {},
     "output_type": "execute_result"
    }
   ],
   "source": [
    "model = NeuralNetwork(d = 16, input = 9, output = 2, drop=0.5).to(device) # 4 0.0\n",
    "\n",
    "# Define the loss function and optimizer\n",
    "# class_counts = torch.bincount(torch.argmax(train_data.y,dim=1))  # Count samples per class\n",
    "# class_counts[1] = class_counts[1] * 1000\n",
    "# class_weights = 1.0 / class_counts.float()  # Inverse class frequency\n",
    "# class_weights = class_weights / class_weights.sum()  # Normalize\n",
    "# criterion = nn.BCELoss(weight=class_weights.to(device),reduction='mean')\n",
    "criterion = nn.BCELoss()\n",
    "# criterion = nn.BCEWithLogitsLoss()\n",
    "optimizer = optim.Adam(model.parameters(), lr=1.0e-5, weight_decay=0, amsgrad=False, eps=1.0e-8, betas=(0.9, 0.999), maximize=False)\n",
    "model.eval()"
   ]
  },
  {
   "cell_type": "code",
   "execution_count": 66,
   "metadata": {},
   "outputs": [
    {
     "data": {
      "text/plain": [
       "<All keys matched successfully>"
      ]
     },
     "execution_count": 66,
     "metadata": {},
     "output_type": "execute_result"
    }
   ],
   "source": [
    "model.load_state_dict(torch.load(\"model/model_bank1.pth\"))"
   ]
  },
  {
   "cell_type": "code",
   "execution_count": 28,
   "metadata": {},
   "outputs": [
    {
     "data": {
      "text/plain": [
       "tensor(6356, device='cuda:0')"
      ]
     },
     "execution_count": 28,
     "metadata": {},
     "output_type": "execute_result"
    }
   ],
   "source": [
    "sum(torch.argmax(train_data.y,dim=1) == 0)"
   ]
  },
  {
   "cell_type": "code",
   "execution_count": 166,
   "metadata": {},
   "outputs": [
    {
     "name": "stdout",
     "output_type": "stream",
     "text": [
      "Epoch [1/200], Loss: 0.7028\n",
      "Test Accuracy for class 0: 29.50%, Test Accuracy for class 1: 88.80%\n",
      "object_max: 199.47%\n",
      "Test Loss: 0.7076, Test Accuracy: 35.71%, 47.73%\n",
      "Test Loss: 0.7076, Test Accuracy: 41.15%\n",
      "Epoch [2/200], Loss: 0.6935\n",
      "Test Accuracy for class 0: 39.33%, Test Accuracy for class 1: 83.97%\n",
      "object_max: 276.19%\n",
      "Test Loss: 0.6986, Test Accuracy: 41.55%, 56.02%\n",
      "Test Loss: 0.6986, Test Accuracy: 48.10%\n",
      "Epoch [4/200], Loss: 0.6675\n",
      "Test Accuracy for class 0: 43.56%, Test Accuracy for class 1: 82.95%\n",
      "object_max: 321.16%\n",
      "Test Loss: 0.6918, Test Accuracy: 47.40%, 56.02%\n",
      "Test Loss: 0.6918, Test Accuracy: 51.30%\n",
      "Epoch [6/200], Loss: 0.6506\n",
      "Test Accuracy for class 0: 52.89%, Test Accuracy for class 1: 76.34%\n",
      "object_max: 551.27%\n",
      "Test Loss: 0.6810, Test Accuracy: 55.25%, 60.22%\n",
      "Test Loss: 0.6810, Test Accuracy: 57.50%\n",
      "Epoch [7/200], Loss: 0.6492\n",
      "Test Accuracy for class 0: 57.44%, Test Accuracy for class 1: 73.03%\n",
      "object_max: 836.75%\n",
      "Test Loss: 0.6761, Test Accuracy: 58.26%, 63.20%\n",
      "Test Loss: 0.6761, Test Accuracy: 60.50%\n",
      "Epoch [9/200], Loss: 0.6400\n",
      "Test Accuracy for class 0: 59.86%, Test Accuracy for class 1: 73.28%\n",
      "object_max: 992.19%\n",
      "Test Loss: 0.6728, Test Accuracy: 61.10%, 64.20%\n",
      "Test Loss: 0.6728, Test Accuracy: 62.50%\n",
      "Epoch [10/200], Loss: 0.6350\n",
      "Test Accuracy for class 0: 64.34%, Test Accuracy for class 1: 70.74%\n",
      "object_max: 2112.49%\n",
      "Test Loss: 0.6648, Test Accuracy: 66.39%, 64.64%\n",
      "Test Loss: 0.6648, Test Accuracy: 65.60%\n",
      "Epoch [11/200], Loss: 0.6339\n",
      "Test Accuracy for class 0: 65.84%, Test Accuracy for class 1: 71.25%\n",
      "object_max: 2533.96%\n",
      "Test Loss: 0.6614, Test Accuracy: 67.58%, 66.08%\n",
      "Test Loss: 0.6614, Test Accuracy: 66.90%\n",
      "Epoch [13/200], Loss: 0.6249\n",
      "Test Accuracy for class 0: 67.83%, Test Accuracy for class 1: 69.72%\n",
      "object_max: 7270.57%\n",
      "Test Loss: 0.6566, Test Accuracy: 69.77%, 66.30%\n",
      "Test Loss: 0.6566, Test Accuracy: 68.20%\n",
      "Epoch [14/200], Loss: 0.6194\n",
      "Test Accuracy for class 0: 69.76%, Test Accuracy for class 1: 68.96%\n",
      "object_max: 17326.94%\n",
      "Test Loss: 0.6530, Test Accuracy: 72.05%, 66.63%\n",
      "Test Loss: 0.6530, Test Accuracy: 69.60%\n",
      "Epoch [15/200], Loss: 0.6216\n",
      "Test Accuracy for class 0: 69.63%, Test Accuracy for class 1: 68.96%\n",
      "object_max: 20497.99%\n",
      "Test Loss: 0.6507, Test Accuracy: 71.69%, 66.85%\n",
      "Test Loss: 0.6507, Test Accuracy: 69.50%\n",
      "Epoch [18/200], Loss: 0.6132\n",
      "Test Accuracy for class 0: 68.95%, Test Accuracy for class 1: 68.45%\n",
      "object_max: 27451.03%\n",
      "Test Loss: 0.6492, Test Accuracy: 72.97%, 63.87%\n",
      "Test Loss: 0.6492, Test Accuracy: 68.85%\n",
      "Epoch [21/200], Loss: 0.6167\n",
      "Test Accuracy for class 0: 69.07%, Test Accuracy for class 1: 69.21%\n",
      "object_max: 99923.80%\n",
      "Test Loss: 0.6473, Test Accuracy: 72.69%, 64.75%\n",
      "Test Loss: 0.6473, Test Accuracy: 69.10%\n",
      "Epoch [118/200], Loss: 0.5481\n",
      "Test Accuracy for class 0: 73.93%, Test Accuracy for class 1: 74.05%\n",
      "object_max: 124106.37%\n",
      "Test Loss: 0.5381, Test Accuracy: 78.45%, 68.51%\n",
      "Test Loss: 0.5381, Test Accuracy: 73.95%\n",
      "Epoch [134/200], Loss: 0.5425\n",
      "Test Accuracy for class 0: 74.11%, Test Accuracy for class 1: 74.05%\n",
      "object_max: 219647.89%\n",
      "Test Loss: 0.5451, Test Accuracy: 79.82%, 67.18%\n",
      "Test Loss: 0.5451, Test Accuracy: 74.10%\n",
      "Epoch [178/200], Loss: 0.5419\n",
      "Test Accuracy for class 0: 74.86%, Test Accuracy for class 1: 74.81%\n",
      "object_max: 294466.36%\n",
      "Test Loss: 0.5251, Test Accuracy: 79.36%, 69.39%\n",
      "Test Loss: 0.5251, Test Accuracy: 74.85%\n"
     ]
    }
   ],
   "source": [
    "# Training loop\n",
    "object_max = 0\n",
    "num_epochs = 200\n",
    "for epoch in range(num_epochs):\n",
    "    model.train()\n",
    "    all_loss = []\n",
    "    avg_loss = 0\n",
    "    for batch_idx, (inputs, targets) in enumerate(train_data_L):\n",
    "        inputs, targets = inputs.to(0), targets.to(0)\n",
    "    # for i, data in enumerate(train_data_DL):\n",
    "    #     inputs, targets = data\n",
    "    #     inputs, targets = inputs.to(device), targets.to(device)\n",
    "        if inputs.size(0) == 1:\n",
    "            continue\n",
    "        # Zero the gradients\n",
    "        optimizer.zero_grad()\n",
    "        # Forward pass\n",
    "        outputs = model(inputs)\n",
    "        loss = criterion(outputs, targets.float())\n",
    "        # all_loss.append(criterion_T(outputs, targets.float()).item())\n",
    "        all_loss.append(loss.item())\n",
    "    \n",
    "        # Backward pass and optimization\n",
    "        loss.backward()\n",
    "        optimizer.step()\n",
    "    # optimizer.zero_grad()\n",
    "    \n",
    "    # # Forward pass\n",
    "    # outputs = model(train_data.X)\n",
    "    # loss = criterion(outputs, train_data.y.float())\n",
    "    \n",
    "    # # Backward pass and optimization\n",
    "    # loss.backward()\n",
    "    # optimizer.step()\n",
    "    \n",
    "    if (epoch+1) % 1 == 0:\n",
    "        avg_loss = sum(all_loss) / len(all_loss)\n",
    "        # print(f'Epoch [{epoch+1}/{num_epochs}], Loss: {avg_loss:.4f}')\n",
    "        model.eval()\n",
    "        with torch.no_grad():\n",
    "            # Forward pass\n",
    "            test_outputs = model(test_data.X)\n",
    "    \n",
    "            # Calculate the loss\n",
    "            test_loss = criterion(test_outputs, test_data.y.float())\n",
    "    \n",
    "            # Calculate accuracy\n",
    "            predicted = torch.argmax(test_outputs, 1)\n",
    "            labels = torch.argmax(test_data.y, 1)\n",
    "            accuracy = (predicted == labels).sum().item() / labels.size(0)\n",
    "            accuracy_f = (predicted == labels)[DatasetL.X_test['Gender'].values == 0].sum().item() / labels[DatasetL.X_test['Gender'].values == 0].size(0)\n",
    "            accuracy_m = (predicted == labels)[DatasetL.X_test['Gender'].values == 1].sum().item() / labels[DatasetL.X_test['Gender'].values == 1].size(0)\n",
    "            accuracy_0 = (predicted[labels == 0] == labels[labels == 0]).sum().item() / labels[labels == 0].size(0)\n",
    "            accuracy_1 = (predicted[labels == 1] == labels[labels == 1]).sum().item() / labels[labels == 1].size(0)\n",
    "            # print(f'Test Accuracy for class 0: {accuracy_0 * 100:.2f}%, Test Accuracy for class 1: {accuracy_1 * 100:.2f}%')\n",
    "            obj_max = ((accuracy_0 + accuracy_1)*100) / (abs(accuracy_0 - accuracy_1) * 100)\n",
    "            if obj_max > object_max:\n",
    "                object_max = obj_max\n",
    "                print(f'Epoch [{epoch+1}/{num_epochs}], Loss: {avg_loss:.4f}')\n",
    "                torch.save(model.state_dict(), \"model/model_bankDD1.pth\")\n",
    "                print(f'Test Accuracy for class 0: {accuracy_0 * 100:.2f}%, Test Accuracy for class 1: {accuracy_1 * 100:.2f}%')\n",
    "                print(f\"object_max: {object_max * 100:.2f}%\")\n",
    "\n",
    "                print(f'Test Loss: {test_loss.item():.4f}, Test Accuracy: {accuracy_m * 100:.2f}%, {accuracy_f * 100:.2f}%')\n",
    "                # print(f'Test Loss_f: {test_loss.item():.4f}, Test Accuracy_f: {accuracy_f * 100:.2f}%, {accuracy_f * 100:.2f}%')\n",
    "    \n",
    "                print(f'Test Loss: {test_loss.item():.4f}, Test Accuracy: {accuracy * 100:.2f}%')"
   ]
  },
  {
   "cell_type": "code",
   "execution_count": 67,
   "metadata": {},
   "outputs": [],
   "source": [
    "# 64\n",
    "# Test Accuracy for class 0: 75.11%, Test Accuracy for class 1: 74.81%\n",
    "# object_max: 50016.32%\n",
    "# Test Loss: 0.5617, Test Accuracy: 80.00%, 69.06%\n",
    "# Test Loss: 0.5617, Test Accuracy: 75.05%\n",
    "\n",
    "#32\n"
   ]
  },
  {
   "cell_type": "code",
   "execution_count": null,
   "metadata": {},
   "outputs": [],
   "source": [
    "# torch.save(model.state_dict(), 'model/model_bank1.pth')"
   ]
  },
  {
   "cell_type": "code",
   "execution_count": 72,
   "metadata": {},
   "outputs": [
    {
     "name": "stdout",
     "output_type": "stream",
     "text": [
      "Test Loss: 0.5488, Test Accuracy: 80.00%, 71.05%\n",
      "Test Loss: 0.5488, Test Accuracy: 75.95%\n"
     ]
    }
   ],
   "source": [
    "# Evaluation loop\n",
    "model.eval()\n",
    "with torch.no_grad():\n",
    "    # Forward pass\n",
    "    test_outputs = model(test_data.X)\n",
    "\n",
    "    # Calculate the loss\n",
    "    test_loss = criterion(test_outputs, test_data.y.float())\n",
    "    \n",
    "    # Calculate accuracy\n",
    "    predicted = torch.argmax(test_outputs, 1)\n",
    "    labels = torch.argmax(test_data.y, 1)\n",
    "    accuracy = (predicted == labels).sum().item() / labels.size(0)\n",
    "    accuracy_f = (predicted == labels)[DatasetL.X_test['Gender'].values == 0].sum().item() / labels[DatasetL.X_test['Gender'].values == 0].size(0)\n",
    "    accuracy_m = (predicted == labels)[DatasetL.X_test['Gender'].values == 1].sum().item() / labels[DatasetL.X_test['Gender'].values == 1].size(0)\n",
    "    print(f'Test Loss: {test_loss.item():.4f}, Test Accuracy: {accuracy_m * 100:.2f}%, {accuracy_f * 100:.2f}%')\n",
    "    # print(f'Test Loss_f: {test_loss.item():.4f}, Test Accuracy_f: {accuracy_f * 100:.2f}%, {accuracy_f * 100:.2f}%')\n",
    "    print(f'Test Loss: {test_loss.item():.4f}, Test Accuracy: {accuracy * 100:.2f}%')"
   ]
  },
  {
   "cell_type": "code",
   "execution_count": 46,
   "metadata": {},
   "outputs": [
    {
     "data": {
      "text/plain": [
       "tensor(354, device='cuda:0')"
      ]
     },
     "execution_count": 46,
     "metadata": {},
     "output_type": "execute_result"
    }
   ],
   "source": [
    "sum(predicted == 1)"
   ]
  },
  {
   "cell_type": "code",
   "execution_count": 73,
   "metadata": {},
   "outputs": [],
   "source": [
    "men_0 = predicted[DatasetL.X_test['Gender'].values == 0]\n",
    "women_0 = predicted[DatasetL.X_test['Gender'].values == 1]"
   ]
  },
  {
   "cell_type": "code",
   "execution_count": 74,
   "metadata": {},
   "outputs": [
    {
     "data": {
      "text/plain": [
       "tensor(390, device='cuda:0')"
      ]
     },
     "execution_count": 74,
     "metadata": {},
     "output_type": "execute_result"
    }
   ],
   "source": [
    "sum(men_0==1)"
   ]
  },
  {
   "cell_type": "code",
   "execution_count": 75,
   "metadata": {},
   "outputs": [
    {
     "data": {
      "text/plain": [
       "tensor(286, device='cuda:0')"
      ]
     },
     "execution_count": 75,
     "metadata": {},
     "output_type": "execute_result"
    }
   ],
   "source": [
    "sum((women_0==1))"
   ]
  },
  {
   "cell_type": "code",
   "execution_count": 76,
   "metadata": {},
   "outputs": [
    {
     "data": {
      "text/plain": [
       "1.3205128205128205"
      ]
     },
     "execution_count": 76,
     "metadata": {},
     "output_type": "execute_result"
    }
   ],
   "source": [
    "len(men_0[men_0 == 0])/len(men_0[men_0 == 1])"
   ]
  },
  {
   "cell_type": "code",
   "execution_count": 77,
   "metadata": {},
   "outputs": [
    {
     "data": {
      "text/plain": [
       "2.8286713286713288"
      ]
     },
     "execution_count": 77,
     "metadata": {},
     "output_type": "execute_result"
    }
   ],
   "source": [
    "len(women_0[women_0 == 0])/len(women_0[women_0 == 1])"
   ]
  },
  {
   "cell_type": "code",
   "execution_count": 78,
   "metadata": {},
   "outputs": [
    {
     "name": "stdout",
     "output_type": "stream",
     "text": [
      "Test Loss: 0.5645, Test Accuracy: 79.23%, 70.87%\n",
      "Test Loss: 0.5645, Test Accuracy: 74.65%\n"
     ]
    }
   ],
   "source": [
    "# Evaluation loop\n",
    "model.eval()\n",
    "with torch.no_grad():\n",
    "    # Forward pass\n",
    "    test_outputs = model(test_dataInv.X)\n",
    "\n",
    "    # Calculate the loss\n",
    "    test_loss = criterion(test_outputs, test_dataInv.y.float())\n",
    "    \n",
    "    # Calculate accuracy\n",
    "    predicted = torch.argmax(test_outputs, 1)\n",
    "    labels = torch.argmax(test_dataInv.y, 1)\n",
    "    accuracy = (predicted == labels).sum().item() / labels.size(0)\n",
    "    accuracy_f = (predicted == labels)[DatasetInvL.X_test['Gender'].values == 0].sum().item() / labels[DatasetInvL.X_test['Gender'].values == 0].size(0)\n",
    "    accuracy_m = (predicted == labels)[DatasetInvL.X_test['Gender'].values == 1].sum().item() / labels[DatasetInvL.X_test['Gender'].values == 1].size(0)\n",
    "    print(f'Test Loss: {test_loss.item():.4f}, Test Accuracy: {accuracy_m * 100:.2f}%, {accuracy_f * 100:.2f}%')\n",
    "    # print(f'Test Loss_f: {test_loss.item():.4f}, Test Accuracy_f: {accuracy_f * 100:.2f}%, {accuracy_f * 100:.2f}%')\n",
    "    print(f'Test Loss: {test_loss.item():.4f}, Test Accuracy: {accuracy * 100:.2f}%')"
   ]
  },
  {
   "cell_type": "code",
   "execution_count": 79,
   "metadata": {},
   "outputs": [],
   "source": [
    "men_1 = predicted[DatasetInvL.X_test['Gender'].values == 0]\n",
    "women_1 = predicted[DatasetInvL.X_test['Gender'].values == 1]"
   ]
  },
  {
   "cell_type": "code",
   "execution_count": 80,
   "metadata": {},
   "outputs": [
    {
     "data": {
      "text/plain": [
       "1.5347222222222223"
      ]
     },
     "execution_count": 80,
     "metadata": {},
     "output_type": "execute_result"
    }
   ],
   "source": [
    "len(men_1[men_1 == 0])/len(men_1[men_1 == 1])"
   ]
  },
  {
   "cell_type": "code",
   "execution_count": 81,
   "metadata": {},
   "outputs": [
    {
     "data": {
      "text/plain": [
       "2.302919708029197"
      ]
     },
     "execution_count": 81,
     "metadata": {},
     "output_type": "execute_result"
    }
   ],
   "source": [
    "len(women_1[women_1 == 0])/len(women_1[women_1 == 1])"
   ]
  },
  {
   "cell_type": "code",
   "execution_count": 86,
   "metadata": {},
   "outputs": [
    {
     "data": {
      "image/png": "[encoded data removed]",
      "text/plain": [
       "<Figure size 640x480 with 1 Axes>"
      ]
     },
     "metadata": {},
     "output_type": "display_data"
    }
   ],
   "source": [
    "x = [len(men_0[men_0 == 0]), len(women_0[women_0 == 0]), len(men_1[men_1 == 0]), len(women_1[women_1 == 0])]\n",
    "y = [len(men_0[men_0 == 1]), len(women_0[women_0 == 1]), len(men_1[men_1 == 1]), len(women_1[women_1 == 1])]\n",
    "plt.figure(0)\n",
    "plt.scatter(x, y,c=['blue', 'green', 'yellow', 'red'])\n",
    "# plt.plot(x[:2], y[:2], 'k-', lw=2)\n",
    "plt.arrow(x[0], y[0], x[1] - x[0], y[1] - y[0], head_width=5, head_length=12, fc='k', ec='k')\n",
    "plt.arrow(x[2], y[2], x[3] - x[2], y[3] - y[2], head_width=5, head_length=12, fc='k', ec='k')\n",
    "for i in range(len(x)):\n",
    "    plt.annotate(f'({x[i]}, {y[i]})', (x[i], y[i]), textcoords=\"offset points\", xytext=(0,10), ha='center')\n",
    "plt.savefig(\"outputs/output_with_Gender_unfairness_bank1.png\")\n",
    "# plt.plot(x[2:], y[2:], 'k-', lw=2)"
   ]
  },
  {
   "cell_type": "code",
   "execution_count": null,
   "metadata": {},
   "outputs": [],
   "source": [
    "###Drop gender columns"
   ]
  },
  {
   "cell_type": "code",
   "execution_count": 128,
   "metadata": {},
   "outputs": [
    {
     "data": {
      "text/plain": [
       "NeuralNetwork(\n",
       "  (layer1): Linear(in_features=10, out_features=16, bias=True)\n",
       "  (layer2): Linear(in_features=16, out_features=32, bias=True)\n",
       "  (layer3): Linear(in_features=32, out_features=64, bias=True)\n",
       "  (layer4): Linear(in_features=64, out_features=32, bias=True)\n",
       "  (layer5): Linear(in_features=32, out_features=16, bias=True)\n",
       "  (output): Linear(in_features=16, out_features=2, bias=True)\n",
       "  (silu): SiLU()\n",
       "  (relu): ReLU()\n",
       "  (dropout): Dropout(p=0.5, inplace=False)\n",
       "  (normalization1): BatchNorm1d(16, eps=1e-05, momentum=0.1, affine=True, track_running_stats=True)\n",
       "  (normalization0): BatchNorm1d(10, eps=1e-05, momentum=0.1, affine=True, track_running_stats=True)\n",
       "  (normalization3): BatchNorm1d(64, eps=1e-05, momentum=0.1, affine=True, track_running_stats=True)\n",
       "  (sigmoid): Sigmoid()\n",
       ")"
      ]
     },
     "execution_count": 128,
     "metadata": {},
     "output_type": "execute_result"
    }
   ],
   "source": [
    "model = NeuralNetwork(d = 16, input = 10, output = 2, drop=0.5).to(device) # 4 0.0\n",
    "\n",
    "# Define the loss function and optimizer\n",
    "# class_counts = torch.bincount(torch.argmax(train_data.y,dim=1))  # Count samples per class\n",
    "# class_counts[1] = class_counts[1] * 1000\n",
    "# class_weights = 1.0 / class_counts.float()  # Inverse class frequency\n",
    "# class_weights = class_weights / class_weights.sum()  # Normalize\n",
    "# criterion = nn.BCELoss(weight=class_weights.to(device),reduction='mean')\n",
    "criterion = nn.BCELoss()\n",
    "# criterion = nn.BCEWithLogitsLoss()\n",
    "optimizer = optim.Adam(model.parameters(), lr=1.0e-5, weight_decay=0, amsgrad=False, eps=1.0e-8, betas=(0.9, 0.999), maximize=False)\n",
    "model.eval()"
   ]
  },
  {
   "cell_type": "code",
   "execution_count": 129,
   "metadata": {},
   "outputs": [
    {
     "data": {
      "text/plain": [
       "<All keys matched successfully>"
      ]
     },
     "execution_count": 129,
     "metadata": {},
     "output_type": "execute_result"
    }
   ],
   "source": [
    "model.load_state_dict(torch.load(\"model/model_bank1D.pth\"))"
   ]
  },
  {
   "cell_type": "code",
   "execution_count": 95,
   "metadata": {},
   "outputs": [
    {
     "data": {
      "text/plain": [
       "tensor([1., 0., 0., 1., 1., 1., 1., 0., 0., 0., 0., 1., 0., 0., 1., 0.],\n",
       "       device='cuda:0')"
      ]
     },
     "execution_count": 95,
     "metadata": {},
     "output_type": "execute_result"
    }
   ],
   "source": [
    "inputs[:,3]"
   ]
  },
  {
   "cell_type": "code",
   "execution_count": 127,
   "metadata": {},
   "outputs": [
    {
     "name": "stdout",
     "output_type": "stream",
     "text": [
      "Epoch [1/200], Loss: 0.6934\n",
      "Test Accuracy for class 0: 70.26%, Test Accuracy for class 1: 58.78%\n",
      "object_max: 1124.33%\n",
      "Test Loss: 0.6807, Test Accuracy: 70.50%, 64.97%\n",
      "Test Loss: 0.6807, Test Accuracy: 68.00%\n",
      "Epoch [2/200], Loss: 0.6758\n",
      "Test Accuracy for class 0: 71.56%, Test Accuracy for class 1: 63.36%\n",
      "object_max: 1644.74%\n",
      "Test Loss: 0.6749, Test Accuracy: 72.33%, 67.07%\n",
      "Test Loss: 0.6749, Test Accuracy: 69.95%\n",
      "Epoch [4/200], Loss: 0.6444\n",
      "Test Accuracy for class 0: 69.63%, Test Accuracy for class 1: 67.94%\n",
      "object_max: 8121.48%\n",
      "Test Loss: 0.6666, Test Accuracy: 70.59%, 67.73%\n",
      "Test Loss: 0.6666, Test Accuracy: 69.30%\n",
      "Epoch [5/200], Loss: 0.6383\n",
      "Test Accuracy for class 0: 69.63%, Test Accuracy for class 1: 68.19%\n",
      "object_max: 9574.78%\n",
      "Test Loss: 0.6628, Test Accuracy: 70.41%, 68.07%\n",
      "Test Loss: 0.6628, Test Accuracy: 69.35%\n",
      "Epoch [9/200], Loss: 0.6143\n",
      "Test Accuracy for class 0: 69.32%, Test Accuracy for class 1: 69.97%\n",
      "object_max: 21337.06%\n",
      "Test Loss: 0.6481, Test Accuracy: 70.68%, 67.96%\n",
      "Test Loss: 0.6481, Test Accuracy: 69.45%\n",
      "Epoch [46/200], Loss: 0.5556\n",
      "Test Accuracy for class 0: 73.43%, Test Accuracy for class 1: 73.03%\n",
      "object_max: 36544.80%\n",
      "Test Loss: 0.5749, Test Accuracy: 74.70%, 71.71%\n",
      "Test Loss: 0.5749, Test Accuracy: 73.35%\n",
      "Epoch [72/200], Loss: 0.5423\n",
      "Test Accuracy for class 0: 75.42%, Test Accuracy for class 1: 75.06%\n",
      "object_max: 42220.39%\n",
      "Test Loss: 0.5555, Test Accuracy: 76.16%, 74.36%\n",
      "Test Loss: 0.5555, Test Accuracy: 75.35%\n",
      "Epoch [78/200], Loss: 0.5456\n",
      "Test Accuracy for class 0: 76.04%, Test Accuracy for class 1: 75.83%\n",
      "object_max: 70524.41%\n",
      "Test Loss: 0.5523, Test Accuracy: 76.99%, 74.81%\n",
      "Test Loss: 0.5523, Test Accuracy: 76.00%\n",
      "Epoch [86/200], Loss: 0.5384\n",
      "Test Accuracy for class 0: 75.42%, Test Accuracy for class 1: 75.57%\n",
      "object_max: 99023.36%\n",
      "Test Loss: 0.5540, Test Accuracy: 75.98%, 74.81%\n",
      "Test Loss: 0.5540, Test Accuracy: 75.45%\n"
     ]
    }
   ],
   "source": [
    "# Training loop\n",
    "num_epochs = 200\n",
    "object_max = 0\n",
    "for epoch in range(num_epochs):\n",
    "    model.train()\n",
    "    # for batch_idx, (inputs, targets) in enumerate(train_loader):\n",
    "    #    inputs, targets = inputs.to(0), targets.to(0)\n",
    "    all_loss = []\n",
    "    avg_loss = 0\n",
    "    for batch_idx, (inputs, targets) in enumerate(train_data_L):\n",
    "        inputs, targets = inputs.to(0), targets.to(0)\n",
    "    # for i, data in enumerate(train_data_L):\n",
    "    #     inputs, targets = data\n",
    "    #     inputs, targets = inputs.to(device), targets.to(device)\n",
    "        if inputs.size(0) == 1:\n",
    "            continue\n",
    "        # Zero the gradients\n",
    "        optimizer.zero_grad()\n",
    "    \n",
    "        # Forward pass\n",
    "        outputs = model(inputs[:, [i for i in range(inputs.shape[1]) if i != 3]])\n",
    "        loss = criterion(outputs, targets.float())\n",
    "        # all_loss.append(criterion_T(outputs, targets.float()).item())\n",
    "        all_loss.append(loss.item())\n",
    "    \n",
    "        # Backward pass and optimization\n",
    "        loss.backward()\n",
    "        optimizer.step()\n",
    "    # optimizer.zero_grad()\n",
    "    \n",
    "    # # Forward pass\n",
    "    # outputs = model(train_data.X[:, [i for i in range(train_data.X.shape[1]) if i != 1]])\n",
    "    # loss = criterion(outputs, train_data.y.float())\n",
    "    \n",
    "    # # Backward pass and optimization\n",
    "    # loss.backward()\n",
    "    # optimizer.step()\n",
    "    \n",
    "    if (epoch+1) % 1 == 0:\n",
    "        avg_loss = sum(all_loss) / len(all_loss)\n",
    "        # print(f'Epoch [{epoch+1}/{num_epochs}], Loss: {avg_loss:.4f}')\n",
    "        model.eval()\n",
    "        with torch.no_grad():\n",
    "            # Forward pass\n",
    "            test_outputs = model(test_data.X[:, [i for i in range(test_data.X.shape[1]) if i != 3]])\n",
    "    \n",
    "            # Calculate the loss\n",
    "            test_loss = criterion(test_outputs, test_data.y.float())\n",
    "    \n",
    "            # Calculate accuracy\n",
    "            predicted = torch.argmax(test_outputs, 1)\n",
    "            labels = torch.argmax(test_data.y, 1)\n",
    "            accuracy = (predicted == labels).sum().item() / labels.size(0)\n",
    "            accuracy_f = (predicted == labels)[DatasetL.X_test['Gender'].values == 0].sum().item() / labels[DatasetL.X_test['Gender'].values == 0].size(0)\n",
    "            accuracy_m = (predicted == labels)[DatasetL.X_test['Gender'].values == 1].sum().item() / labels[DatasetL.X_test['Gender'].values == 1].size(0)\n",
    "            accuracy_0 = (predicted[labels == 0] == labels[labels == 0]).sum().item() / labels[labels == 0].size(0)\n",
    "            accuracy_1 = (predicted[labels == 1] == labels[labels == 1]).sum().item() / labels[labels == 1].size(0)\n",
    "            # print(f'Test Accuracy for class 0: {accuracy_0 * 100:.2f}%, Test Accuracy for class 1: {accuracy_1 * 100:.2f}%')\n",
    "            # print(f\"test_loss: {test_loss.item():.4f}\")\n",
    "            obj_max = ((accuracy_0 + accuracy_1)*100) / (abs(accuracy_0 - accuracy_1) * 100)\n",
    "            if obj_max > object_max:\n",
    "                object_max = obj_max\n",
    "                print(f'Epoch [{epoch+1}/{num_epochs}], Loss: {avg_loss:.4f}')\n",
    "                torch.save(model.state_dict(), \"model/model_bank2D.pth\")\n",
    "                print(f'Test Accuracy for class 0: {accuracy_0 * 100:.2f}%, Test Accuracy for class 1: {accuracy_1 * 100:.2f}%')\n",
    "                print(f\"object_max: {object_max * 100:.2f}%\")\n",
    "\n",
    "                print(f'Test Loss: {test_loss.item():.4f}, Test Accuracy: {accuracy_m * 100:.2f}%, {accuracy_f * 100:.2f}%')\n",
    "                # print(f'Test Loss_f: {test_loss.item():.4f}, Test Accuracy_f: {accuracy_f * 100:.2f}%, {accuracy_f * 100:.2f}%')\n",
    "    \n",
    "                print(f'Test Loss: {test_loss.item():.4f}, Test Accuracy: {accuracy * 100:.2f}%')"
   ]
  },
  {
   "cell_type": "code",
   "execution_count": null,
   "metadata": {},
   "outputs": [],
   "source": [
    "# 32\n",
    "# Test Accuracy for class 0: 76.85%, Test Accuracy for class 1: 76.34%\n",
    "# object_max: 29722.12%\n",
    "# Test Loss: 0.5724, Test Accuracy: 77.90%, 75.36%\n",
    "# Test Loss: 0.5724, Test Accuracy: 76.75%\n",
    "\n",
    "# 64\n",
    "# Test Accuracy for class 0: 75.42%, Test Accuracy for class 1: 75.57%\n",
    "# object_max: 99023.36%\n",
    "# Test Loss: 0.5540, Test Accuracy: 75.98%, 74.81%\n",
    "# Test Loss: 0.5540, Test Accuracy: 75.45%"
   ]
  },
  {
   "cell_type": "code",
   "execution_count": null,
   "metadata": {},
   "outputs": [],
   "source": [
    "# torch.save(model.state_dict(), 'model/model_house5D.pth')"
   ]
  },
  {
   "cell_type": "code",
   "execution_count": 130,
   "metadata": {},
   "outputs": [
    {
     "name": "stdout",
     "output_type": "stream",
     "text": [
      "Test Loss: 0.5724, Test Accuracy: 77.90%, 75.36%\n",
      "Test Loss: 0.5724, Test Accuracy: 76.75%\n"
     ]
    }
   ],
   "source": [
    "# Evaluation loop\n",
    "model.eval()\n",
    "with torch.no_grad():\n",
    "    # Forward pass\n",
    "    test_outputs = model(test_data.X[:, [i for i in range(test_data.X.shape[1]) if i != 3]])\n",
    "\n",
    "    # Calculate the loss\n",
    "    test_loss = criterion(test_outputs, test_data.y.float())\n",
    "    \n",
    "    # Calculate accuracy\n",
    "    predicted = torch.argmax(test_outputs, 1)\n",
    "    labels = torch.argmax(test_data.y, 1)\n",
    "    accuracy = (predicted == labels).sum().item() / labels.size(0)\n",
    "    accuracy_f = (predicted == labels)[DatasetL.X_test['Gender'].values == 0].sum().item() / labels[DatasetL.X_test['Gender'].values == 0].size(0)\n",
    "    accuracy_m = (predicted == labels)[DatasetL.X_test['Gender'].values == 1].sum().item() / labels[DatasetL.X_test['Gender'].values == 1].size(0)\n",
    "    print(f'Test Loss: {test_loss.item():.4f}, Test Accuracy: {accuracy_m * 100:.2f}%, {accuracy_f * 100:.2f}%')\n",
    "    # print(f'Test Loss_f: {test_loss.item():.4f}, Test Accuracy_f: {accuracy_f * 100:.2f}%, {accuracy_f * 100:.2f}%')\n",
    "    print(f'Test Loss: {test_loss.item():.4f}, Test Accuracy: {accuracy * 100:.2f}%')"
   ]
  },
  {
   "cell_type": "code",
   "execution_count": 131,
   "metadata": {},
   "outputs": [],
   "source": [
    "men_0 = predicted[DatasetL.X_test['Gender'].values == 0]\n",
    "women_0 = predicted[DatasetL.X_test['Gender'].values == 1]"
   ]
  },
  {
   "cell_type": "code",
   "execution_count": 132,
   "metadata": {},
   "outputs": [
    {
     "data": {
      "text/plain": [
       "1.7341389728096677"
      ]
     },
     "execution_count": 132,
     "metadata": {},
     "output_type": "execute_result"
    }
   ],
   "source": [
    "len(men_0[men_0 == 0])/len(men_0[men_0 == 1])"
   ]
  },
  {
   "cell_type": "code",
   "execution_count": 133,
   "metadata": {},
   "outputs": [
    {
     "data": {
      "text/plain": [
       "2.2111436950146626"
      ]
     },
     "execution_count": 133,
     "metadata": {},
     "output_type": "execute_result"
    }
   ],
   "source": [
    "len(women_0[women_0 == 0])/len(women_0[women_0 == 1])"
   ]
  },
  {
   "cell_type": "code",
   "execution_count": 134,
   "metadata": {},
   "outputs": [
    {
     "name": "stdout",
     "output_type": "stream",
     "text": [
      "Test Loss: 0.5724, Test Accuracy: 75.36%, 77.90%\n",
      "Test Loss: 0.5724, Test Accuracy: 76.75%\n"
     ]
    }
   ],
   "source": [
    "# Evaluation loop\n",
    "model.eval()\n",
    "with torch.no_grad():\n",
    "    # Forward pass\n",
    "    test_outputs = model(test_dataInv.X[:, [i for i in range(test_data.X.shape[1]) if i != 3]])\n",
    "\n",
    "    # Calculate the loss\n",
    "    test_loss = criterion(test_outputs, test_dataInv.y.float())\n",
    "    \n",
    "    # Calculate accuracy\n",
    "    predicted = torch.argmax(test_outputs, 1)\n",
    "    labels = torch.argmax(test_dataInv.y, 1)\n",
    "    accuracy = (predicted == labels).sum().item() / labels.size(0)\n",
    "    accuracy_f = (predicted == labels)[DatasetInvL.X_test['Gender'].values == 0].sum().item() / labels[DatasetInvL.X_test['Gender'].values == 0].size(0)\n",
    "    accuracy_m = (predicted == labels)[DatasetInvL.X_test['Gender'].values == 1].sum().item() / labels[DatasetInvL.X_test['Gender'].values == 1].size(0)\n",
    "    print(f'Test Loss: {test_loss.item():.4f}, Test Accuracy: {accuracy_m * 100:.2f}%, {accuracy_f * 100:.2f}%')\n",
    "    # print(f'Test Loss_f: {test_loss.item():.4f}, Test Accuracy_f: {accuracy_f * 100:.2f}%, {accuracy_f * 100:.2f}%')\n",
    "    print(f'Test Loss: {test_loss.item():.4f}, Test Accuracy: {accuracy * 100:.2f}%')"
   ]
  },
  {
   "cell_type": "code",
   "execution_count": 135,
   "metadata": {},
   "outputs": [],
   "source": [
    "men_1 = predicted[DatasetInvL.X_test['Gender'].values == 0]\n",
    "women_1 = predicted[DatasetInvL.X_test['Gender'].values == 1]"
   ]
  },
  {
   "cell_type": "code",
   "execution_count": 136,
   "metadata": {},
   "outputs": [
    {
     "data": {
      "text/plain": [
       "2.2111436950146626"
      ]
     },
     "execution_count": 136,
     "metadata": {},
     "output_type": "execute_result"
    }
   ],
   "source": [
    "len(men_1[men_1 == 0])/len(men_1[men_1 == 1])"
   ]
  },
  {
   "cell_type": "code",
   "execution_count": 137,
   "metadata": {},
   "outputs": [
    {
     "data": {
      "text/plain": [
       "1.7341389728096677"
      ]
     },
     "execution_count": 137,
     "metadata": {},
     "output_type": "execute_result"
    }
   ],
   "source": [
    "len(women_1[women_1 == 0])/len(women_1[women_1 == 1])"
   ]
  },
  {
   "cell_type": "code",
   "execution_count": 138,
   "metadata": {},
   "outputs": [
    {
     "data": {
      "image/png": "[encoded data removed]",
      "text/plain": [
       "<Figure size 640x480 with 1 Axes>"
      ]
     },
     "metadata": {},
     "output_type": "display_data"
    }
   ],
   "source": [
    "x = [len(men_0[men_0 == 0]), len(women_0[women_0 == 0]), len(men_1[men_1 == 0]), len(women_1[women_1 == 0])]\n",
    "y = [len(men_0[men_0 == 1]), len(women_0[women_0 == 1]), len(men_1[men_1 == 1]), len(women_1[women_1 == 1])]\n",
    "plt.figure(0)\n",
    "plt.scatter(x, y,c=['blue', 'green', 'yellow', 'red'])\n",
    "# plt.plot(x[:2], y[:2], 'k-', lw=2)\n",
    "plt.arrow(x[0], y[0], x[1] - x[0], y[1] - y[0], head_width=1, head_length=5, fc='k', ec='k')\n",
    "plt.arrow(x[2], y[2], x[3] - x[2], y[3] - y[2], head_width=1, head_length=5, fc='k', ec='k')\n",
    "for i in range(len(x)):\n",
    "    plt.annotate(f'({x[i]}, {y[i]})', (x[i], y[i]), textcoords=\"offset points\", xytext=(0,10), ha='center')\n",
    "plt.savefig(\"outputs/output_with_out_Gender_unfairness_bank1.png\")\n",
    "# plt.plot(x[2:], y[2:], 'k-', lw=2)"
   ]
  },
  {
   "cell_type": "code",
   "execution_count": null,
   "metadata": {},
   "outputs": [],
   "source": []
  }
 ],
 "metadata": {
  "kernelspec": {
   "display_name": "pytorch",
   "language": "python",
   "name": "python3"
  },
  "language_info": {
   "codemirror_mode": {
    "name": "ipython",
    "version": 3
   },
   "file_extension": ".py",
   "mimetype": "text/x-python",
   "name": "python",
   "nbconvert_exporter": "python",
   "pygments_lexer": "ipython3",
   "version": "3.11.2"
  }
 },
 "nbformat": 4,
 "nbformat_minor": 2
}
