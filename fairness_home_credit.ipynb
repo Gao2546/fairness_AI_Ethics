{
 "cells": [
  {
   "cell_type": "code",
   "execution_count": 19,
   "metadata": {},
   "outputs": [],
   "source": [
    "from utils.util import *\n",
    "from matplotlib import pyplot as plt\n",
    "import torch.optim as optim\n",
    "# Set seed for reproducibility\n",
    "torch.manual_seed(42)\n",
    "device = torch.device('cuda' if torch.cuda.is_available() else 'cpu')"
   ]
  },
  {
   "cell_type": "code",
   "execution_count": 20,
   "metadata": {},
   "outputs": [],
   "source": [
    "data = Loader(data_dir=\"data/home-credit-default-risk\").load_csv(file_name=\"application_train.csv\")"
   ]
  },
  {
   "cell_type": "code",
   "execution_count": 21,
   "metadata": {},
   "outputs": [],
   "source": [
    "count_columns = data.columns"
   ]
  },
  {
   "cell_type": "code",
   "execution_count": 22,
   "metadata": {},
   "outputs": [
    {
     "name": "stdout",
     "output_type": "stream",
     "text": [
      "SK_ID_CURR\n",
      "TARGET\n",
      "NAME_CONTRACT_TYPE\n",
      "CODE_GENDER\n",
      "FLAG_OWN_CAR\n",
      "FLAG_OWN_REALTY\n",
      "CNT_CHILDREN\n",
      "AMT_INCOME_TOTAL\n",
      "AMT_CREDIT\n",
      "AMT_ANNUITY\n",
      "AMT_GOODS_PRICE\n",
      "NAME_TYPE_SUITE\n",
      "NAME_INCOME_TYPE\n",
      "NAME_EDUCATION_TYPE\n",
      "NAME_FAMILY_STATUS\n",
      "NAME_HOUSING_TYPE\n",
      "REGION_POPULATION_RELATIVE\n",
      "DAYS_BIRTH\n",
      "DAYS_EMPLOYED\n",
      "DAYS_REGISTRATION\n",
      "DAYS_ID_PUBLISH\n",
      "OWN_CAR_AGE\n",
      "FLAG_MOBIL\n",
      "FLAG_EMP_PHONE\n",
      "FLAG_WORK_PHONE\n",
      "FLAG_CONT_MOBILE\n",
      "FLAG_PHONE\n",
      "FLAG_EMAIL\n",
      "OCCUPATION_TYPE\n",
      "CNT_FAM_MEMBERS\n",
      "REGION_RATING_CLIENT\n",
      "REGION_RATING_CLIENT_W_CITY\n",
      "WEEKDAY_APPR_PROCESS_START\n",
      "HOUR_APPR_PROCESS_START\n",
      "REG_REGION_NOT_LIVE_REGION\n",
      "REG_REGION_NOT_WORK_REGION\n",
      "LIVE_REGION_NOT_WORK_REGION\n",
      "REG_CITY_NOT_LIVE_CITY\n",
      "REG_CITY_NOT_WORK_CITY\n",
      "LIVE_CITY_NOT_WORK_CITY\n",
      "ORGANIZATION_TYPE\n",
      "EXT_SOURCE_1\n",
      "EXT_SOURCE_2\n",
      "EXT_SOURCE_3\n",
      "APARTMENTS_AVG\n",
      "BASEMENTAREA_AVG\n",
      "YEARS_BEGINEXPLUATATION_AVG\n",
      "YEARS_BUILD_AVG\n",
      "COMMONAREA_AVG\n",
      "ELEVATORS_AVG\n",
      "ENTRANCES_AVG\n",
      "FLOORSMAX_AVG\n",
      "FLOORSMIN_AVG\n",
      "LANDAREA_AVG\n",
      "LIVINGAPARTMENTS_AVG\n",
      "LIVINGAREA_AVG\n",
      "NONLIVINGAPARTMENTS_AVG\n",
      "NONLIVINGAREA_AVG\n",
      "APARTMENTS_MODE\n",
      "BASEMENTAREA_MODE\n",
      "YEARS_BEGINEXPLUATATION_MODE\n",
      "YEARS_BUILD_MODE\n",
      "COMMONAREA_MODE\n",
      "ELEVATORS_MODE\n",
      "ENTRANCES_MODE\n",
      "FLOORSMAX_MODE\n",
      "FLOORSMIN_MODE\n",
      "LANDAREA_MODE\n",
      "LIVINGAPARTMENTS_MODE\n",
      "LIVINGAREA_MODE\n",
      "NONLIVINGAPARTMENTS_MODE\n",
      "NONLIVINGAREA_MODE\n",
      "APARTMENTS_MEDI\n",
      "BASEMENTAREA_MEDI\n",
      "YEARS_BEGINEXPLUATATION_MEDI\n",
      "YEARS_BUILD_MEDI\n",
      "COMMONAREA_MEDI\n",
      "ELEVATORS_MEDI\n",
      "ENTRANCES_MEDI\n",
      "FLOORSMAX_MEDI\n",
      "FLOORSMIN_MEDI\n",
      "LANDAREA_MEDI\n",
      "LIVINGAPARTMENTS_MEDI\n",
      "LIVINGAREA_MEDI\n",
      "NONLIVINGAPARTMENTS_MEDI\n",
      "NONLIVINGAREA_MEDI\n",
      "FONDKAPREMONT_MODE\n",
      "HOUSETYPE_MODE\n",
      "TOTALAREA_MODE\n",
      "WALLSMATERIAL_MODE\n",
      "EMERGENCYSTATE_MODE\n",
      "OBS_30_CNT_SOCIAL_CIRCLE\n",
      "DEF_30_CNT_SOCIAL_CIRCLE\n",
      "OBS_60_CNT_SOCIAL_CIRCLE\n",
      "DEF_60_CNT_SOCIAL_CIRCLE\n",
      "DAYS_LAST_PHONE_CHANGE\n",
      "FLAG_DOCUMENT_2\n",
      "FLAG_DOCUMENT_3\n",
      "FLAG_DOCUMENT_4\n",
      "FLAG_DOCUMENT_5\n",
      "FLAG_DOCUMENT_6\n",
      "FLAG_DOCUMENT_7\n",
      "FLAG_DOCUMENT_8\n",
      "FLAG_DOCUMENT_9\n",
      "FLAG_DOCUMENT_10\n",
      "FLAG_DOCUMENT_11\n",
      "FLAG_DOCUMENT_12\n",
      "FLAG_DOCUMENT_13\n",
      "FLAG_DOCUMENT_14\n",
      "FLAG_DOCUMENT_15\n",
      "FLAG_DOCUMENT_16\n",
      "FLAG_DOCUMENT_17\n",
      "FLAG_DOCUMENT_18\n",
      "FLAG_DOCUMENT_19\n",
      "FLAG_DOCUMENT_20\n",
      "FLAG_DOCUMENT_21\n",
      "AMT_REQ_CREDIT_BUREAU_HOUR\n",
      "AMT_REQ_CREDIT_BUREAU_DAY\n",
      "AMT_REQ_CREDIT_BUREAU_WEEK\n",
      "AMT_REQ_CREDIT_BUREAU_MON\n",
      "AMT_REQ_CREDIT_BUREAU_QRT\n",
      "AMT_REQ_CREDIT_BUREAU_YEAR\n"
     ]
    }
   ],
   "source": [
    "for i in count_columns:\n",
    "    print(i)"
   ]
  },
  {
   "cell_type": "code",
   "execution_count": 23,
   "metadata": {},
   "outputs": [],
   "source": [
    "important_features = [\n",
    "    \"AMT_INCOME_TOTAL\",  # Applicant's income level\n",
    "    \"AMT_CREDIT\",  # Loan amount requested\n",
    "    \"AMT_ANNUITY\",  # Monthly installment amount\n",
    "    \"AMT_GOODS_PRICE\",  # Value of the house\n",
    "    \"DAYS_EMPLOYED\",  # Employment history (longer employment = more stable)\n",
    "    \"NAME_INCOME_TYPE\",  # Type of income (e.g., Working, Business, Pensioner)\n",
    "    \"NAME_EDUCATION_TYPE\",  # Education level (higher education may correlate with stability)\n",
    "    # \"OCCUPATION_TYPE\",  # Type of job (some jobs are riskier than others)\n",
    "    \"CNT_CHILDREN\",  # Number of children (affects financial burden)\n",
    "    \"CNT_FAM_MEMBERS\",  # Total family members (affects living expenses)\n",
    "    \"REGION_RATING_CLIENT\",  # Risk rating of applicant's region\n",
    "    \"EXT_SOURCE_2\", #\"EXT_SOURCE_1\", \"EXT_SOURCE_3\",  # External credit score sources\n",
    "    \"DAYS_BIRTH\",  # Age of applicant (younger applicants might have less credit history)\n",
    "    \"REG_CITY_NOT_WORK_CITY\",  # If applicant's work and home city differ (stability factor)\n",
    "    \"LIVE_REGION_NOT_WORK_REGION\",  # If applicant lives far from work region\n",
    "    \"FLAG_EMP_PHONE\",  # Verified employment phone number (adds credibility)\n",
    "    # \"AMT_REQ_CREDIT_BUREAU_YEAR\"  # Number of credit inquiries in the past year (high = risky)\n",
    "]\n",
    "\n",
    "irrelevant_features = [\n",
    "    \"SK_ID_CURR\",  # Just an ID, no predictive value\n",
    "    \"FLAG_MOBIL\",  # Almost always 1 (not useful for prediction)\n",
    "    \"FLAG_CONT_MOBILE\",  # Mobile phone continuity doesn't reflect creditworthiness\n",
    "    \"FLAG_PHONE\",  # Having a phone number isn't a strong predictor\n",
    "    \"FLAG_EMAIL\",  # Having an email doesn’t impact financial status\n",
    "    \"DAYS_REGISTRATION\",  # Registration date is unrelated to loan approval\n",
    "    \"DAYS_ID_PUBLISH\",  # Date of ID issue has no real impact\n",
    "    \"OWN_CAR_AGE\",  # Age of the car doesn’t determine loan approval\n",
    "    \"WEEKDAY_APPR_PROCESS_START\",  # Day of application is irrelevant\n",
    "    \"HOUR_APPR_PROCESS_START\",  # Hour of application is not a strong factor\n",
    "    \"REG_REGION_NOT_LIVE_REGION\",  # Registration vs. living region mismatch isn't key\n",
    "    \"REG_REGION_NOT_WORK_REGION\",  # Registration vs. work region mismatch is minor\n",
    "    \"LIVE_CITY_NOT_WORK_CITY\",  # Not a strong determinant for loan approval\n",
    "    \"FONDKAPREMONT_MODE\",  # Home repair fund info isn't relevant\n",
    "    \"EMERGENCYSTATE_MODE\",  # Emergency state info doesn’t impact approval\n",
    "    \"OBS_30_CNT_SOCIAL_CIRCLE\",  # Social circle observations not useful\n",
    "    \"DEF_30_CNT_SOCIAL_CIRCLE\",  # Defaults in social circle are weak predictors\n",
    "    \"OBS_60_CNT_SOCIAL_CIRCLE\",  # Same as above, for 60 days\n",
    "    \"DEF_60_CNT_SOCIAL_CIRCLE\",  # Same as above, for 60 days\n",
    "    \"DAYS_LAST_PHONE_CHANGE\",  # Changing phone doesn't impact loan approval\n",
    "    \"FLAG_DOCUMENT_2\", \"FLAG_DOCUMENT_3\", \"FLAG_DOCUMENT_4\",  \n",
    "    \"FLAG_DOCUMENT_5\", \"FLAG_DOCUMENT_6\", \"FLAG_DOCUMENT_7\",  \n",
    "    \"FLAG_DOCUMENT_8\", \"FLAG_DOCUMENT_9\", \"FLAG_DOCUMENT_10\",  \n",
    "    \"FLAG_DOCUMENT_11\", \"FLAG_DOCUMENT_12\", \"FLAG_DOCUMENT_13\",  \n",
    "    \"FLAG_DOCUMENT_14\", \"FLAG_DOCUMENT_15\", \"FLAG_DOCUMENT_16\",  \n",
    "    \"FLAG_DOCUMENT_17\", \"FLAG_DOCUMENT_18\", \"FLAG_DOCUMENT_19\",  \n",
    "    \"FLAG_DOCUMENT_20\", \"FLAG_DOCUMENT_21\",  # Document flags have little effect on approval\n",
    "    \"APARTMENTS_AVG\", \"BASEMENTAREA_AVG\", \"YEARS_BEGINEXPLUATATION_AVG\",  \n",
    "    \"YEARS_BUILD_AVG\", \"COMMONAREA_AVG\", \"ELEVATORS_AVG\", \"ENTRANCES_AVG\",  \n",
    "    \"FLOORSMAX_AVG\", \"FLOORSMIN_AVG\", \"LANDAREA_AVG\", \"LIVINGAPARTMENTS_AVG\",  \n",
    "    \"LIVINGAREA_AVG\", \"NONLIVINGAPARTMENTS_AVG\", \"NONLIVINGAREA_AVG\",  \n",
    "    \"APARTMENTS_MODE\", \"BASEMENTAREA_MODE\", \"YEARS_BEGINEXPLUATATION_MODE\",  \n",
    "    \"YEARS_BUILD_MODE\", \"COMMONAREA_MODE\", \"ELEVATORS_MODE\", \"ENTRANCES_MODE\",  \n",
    "    \"FLOORSMAX_MODE\", \"FLOORSMIN_MODE\", \"LANDAREA_MODE\", \"LIVINGAPARTMENTS_MODE\",  \n",
    "    \"LIVINGAREA_MODE\", \"NONLIVINGAPARTMENTS_MODE\", \"NONLIVINGAREA_MODE\",  \n",
    "    \"APARTMENTS_MEDI\", \"BASEMENTAREA_MEDI\", \"YEARS_BEGINEXPLUATATION_MEDI\",  \n",
    "    \"YEARS_BUILD_MEDI\", \"COMMONAREA_MEDI\", \"ELEVATORS_MEDI\", \"ENTRANCES_MEDI\",  \n",
    "    \"FLOORSMAX_MEDI\", \"FLOORSMIN_MEDI\", \"LANDAREA_MEDI\", \"LIVINGAPARTMENTS_MEDI\",  \n",
    "    \"LIVINGAREA_MEDI\", \"NONLIVINGAPARTMENTS_MEDI\", \"NONLIVINGAREA_MEDI\",  \n",
    "    \"TOTALAREA_MODE\",# \"HOUSETYPE_MODE\", \"TOTALAREA_MODE\", \"WALLSMATERIAL_MODE\",  # Property features not always available\n",
    "    \"AMT_REQ_CREDIT_BUREAU_HOUR\", \"AMT_REQ_CREDIT_BUREAU_DAY\",  \n",
    "    \"AMT_REQ_CREDIT_BUREAU_WEEK\", \"AMT_REQ_CREDIT_BUREAU_MON\",  \n",
    "    \"AMT_REQ_CREDIT_BUREAU_QRT\"  # Frequency of credit bureau inquiries isn't a strong factor\n",
    "]\n",
    "\n",
    "unfairness_risk_features = [\n",
    "    \"CODE_GENDER\",  # Gender bias (e.g., females may have different approval rates)\n",
    "    \"FLAG_OWN_CAR\",  # Owning a car might not be a fair creditworthiness factor\n",
    "    \"FLAG_OWN_REALTY\",  # Homeownership may favor wealthier applicants\n",
    "    \"NAME_FAMILY_STATUS\",  # Family status might introduce bias (e.g., single vs. married)\n",
    "    \"NAME_HOUSING_TYPE\",  # Housing type may reflect economic background\n",
    "    \"REGION_POPULATION_RELATIVE\",  # Population density may be a proxy for economic status\n",
    "    \"ORGANIZATION_TYPE\",  # Some job sectors might be unfairly penalized\n",
    "    \"DAYS_BIRTH\",  # Age-based discrimination (older/younger applicants may be treated unfairly)\n",
    "    \"OCCUPATION_TYPE\",  # Some jobs may be historically underpaid but still creditworthy\n",
    "    \"REGION_RATING_CLIENT_W_CITY\",  # Regional bias based on location\n",
    "    \"WALLSMATERIAL_MODE\",  # Type of house construction could introduce socioeconomic bias\n",
    "    \"HOUSETYPE_MODE\"  # House type may unfairly impact approval chances\n",
    "]\n",
    "\n",
    "target = [\"TARGET\"]\n"
   ]
  },
  {
   "cell_type": "code",
   "execution_count": 24,
   "metadata": {},
   "outputs": [],
   "source": [
    "# data = data.drop(columns=irrelevant_features) # drop unuseage column\n",
    "# data = data[list(set(important_features + unfairness_risk_features + target))] # reorder columns\n",
    "# Identify columns with more than 10,000 missing values\n",
    "\n",
    "cols_to_drop = [col for col in data.columns if data[col].isnull().sum() > 10000] + [\"SK_ID_CURR\"]\n",
    "# Drop those columns\n",
    "data = data.drop(columns=cols_to_drop)\n",
    "data = data[data[\"CODE_GENDER\"] != \"XNA\"] # drop rows with unknown\n",
    "data = data.dropna() # drop rows with missing values\n",
    "data = data.drop_duplicates() # drop duplicates\n",
    "data = data.reset_index(drop=True)"
   ]
  },
  {
   "cell_type": "code",
   "execution_count": 25,
   "metadata": {},
   "outputs": [
    {
     "data": {
      "text/html": [
       "<div>\n",
       "<style scoped>\n",
       "    .dataframe tbody tr th:only-of-type {\n",
       "        vertical-align: middle;\n",
       "    }\n",
       "\n",
       "    .dataframe tbody tr th {\n",
       "        vertical-align: top;\n",
       "    }\n",
       "\n",
       "    .dataframe thead th {\n",
       "        text-align: right;\n",
       "    }\n",
       "</style>\n",
       "<table border=\"1\" class=\"dataframe\">\n",
       "  <thead>\n",
       "    <tr style=\"text-align: right;\">\n",
       "      <th></th>\n",
       "      <th>TARGET</th>\n",
       "      <th>NAME_CONTRACT_TYPE</th>\n",
       "      <th>CODE_GENDER</th>\n",
       "      <th>FLAG_OWN_CAR</th>\n",
       "      <th>FLAG_OWN_REALTY</th>\n",
       "      <th>CNT_CHILDREN</th>\n",
       "      <th>AMT_INCOME_TOTAL</th>\n",
       "      <th>AMT_CREDIT</th>\n",
       "      <th>AMT_ANNUITY</th>\n",
       "      <th>AMT_GOODS_PRICE</th>\n",
       "      <th>...</th>\n",
       "      <th>FLAG_DOCUMENT_12</th>\n",
       "      <th>FLAG_DOCUMENT_13</th>\n",
       "      <th>FLAG_DOCUMENT_14</th>\n",
       "      <th>FLAG_DOCUMENT_15</th>\n",
       "      <th>FLAG_DOCUMENT_16</th>\n",
       "      <th>FLAG_DOCUMENT_17</th>\n",
       "      <th>FLAG_DOCUMENT_18</th>\n",
       "      <th>FLAG_DOCUMENT_19</th>\n",
       "      <th>FLAG_DOCUMENT_20</th>\n",
       "      <th>FLAG_DOCUMENT_21</th>\n",
       "    </tr>\n",
       "  </thead>\n",
       "  <tbody>\n",
       "    <tr>\n",
       "      <th>0</th>\n",
       "      <td>1</td>\n",
       "      <td>0</td>\n",
       "      <td>1</td>\n",
       "      <td>0</td>\n",
       "      <td>1</td>\n",
       "      <td>0</td>\n",
       "      <td>202500.0</td>\n",
       "      <td>406597.5</td>\n",
       "      <td>24700.5</td>\n",
       "      <td>351000.0</td>\n",
       "      <td>...</td>\n",
       "      <td>0</td>\n",
       "      <td>0</td>\n",
       "      <td>0</td>\n",
       "      <td>0</td>\n",
       "      <td>0</td>\n",
       "      <td>0</td>\n",
       "      <td>0</td>\n",
       "      <td>0</td>\n",
       "      <td>0</td>\n",
       "      <td>0</td>\n",
       "    </tr>\n",
       "    <tr>\n",
       "      <th>1</th>\n",
       "      <td>0</td>\n",
       "      <td>0</td>\n",
       "      <td>0</td>\n",
       "      <td>0</td>\n",
       "      <td>0</td>\n",
       "      <td>0</td>\n",
       "      <td>270000.0</td>\n",
       "      <td>1293502.5</td>\n",
       "      <td>35698.5</td>\n",
       "      <td>1129500.0</td>\n",
       "      <td>...</td>\n",
       "      <td>0</td>\n",
       "      <td>0</td>\n",
       "      <td>0</td>\n",
       "      <td>0</td>\n",
       "      <td>0</td>\n",
       "      <td>0</td>\n",
       "      <td>0</td>\n",
       "      <td>0</td>\n",
       "      <td>0</td>\n",
       "      <td>0</td>\n",
       "    </tr>\n",
       "    <tr>\n",
       "      <th>2</th>\n",
       "      <td>0</td>\n",
       "      <td>1</td>\n",
       "      <td>1</td>\n",
       "      <td>1</td>\n",
       "      <td>1</td>\n",
       "      <td>0</td>\n",
       "      <td>67500.0</td>\n",
       "      <td>135000.0</td>\n",
       "      <td>6750.0</td>\n",
       "      <td>135000.0</td>\n",
       "      <td>...</td>\n",
       "      <td>0</td>\n",
       "      <td>0</td>\n",
       "      <td>0</td>\n",
       "      <td>0</td>\n",
       "      <td>0</td>\n",
       "      <td>0</td>\n",
       "      <td>0</td>\n",
       "      <td>0</td>\n",
       "      <td>0</td>\n",
       "      <td>0</td>\n",
       "    </tr>\n",
       "    <tr>\n",
       "      <th>3</th>\n",
       "      <td>0</td>\n",
       "      <td>0</td>\n",
       "      <td>0</td>\n",
       "      <td>0</td>\n",
       "      <td>1</td>\n",
       "      <td>0</td>\n",
       "      <td>135000.0</td>\n",
       "      <td>312682.5</td>\n",
       "      <td>29686.5</td>\n",
       "      <td>297000.0</td>\n",
       "      <td>...</td>\n",
       "      <td>0</td>\n",
       "      <td>0</td>\n",
       "      <td>0</td>\n",
       "      <td>0</td>\n",
       "      <td>0</td>\n",
       "      <td>0</td>\n",
       "      <td>0</td>\n",
       "      <td>0</td>\n",
       "      <td>0</td>\n",
       "      <td>0</td>\n",
       "    </tr>\n",
       "    <tr>\n",
       "      <th>4</th>\n",
       "      <td>0</td>\n",
       "      <td>0</td>\n",
       "      <td>1</td>\n",
       "      <td>0</td>\n",
       "      <td>1</td>\n",
       "      <td>0</td>\n",
       "      <td>121500.0</td>\n",
       "      <td>513000.0</td>\n",
       "      <td>21865.5</td>\n",
       "      <td>513000.0</td>\n",
       "      <td>...</td>\n",
       "      <td>0</td>\n",
       "      <td>0</td>\n",
       "      <td>0</td>\n",
       "      <td>0</td>\n",
       "      <td>0</td>\n",
       "      <td>0</td>\n",
       "      <td>0</td>\n",
       "      <td>0</td>\n",
       "      <td>0</td>\n",
       "      <td>0</td>\n",
       "    </tr>\n",
       "  </tbody>\n",
       "</table>\n",
       "<p>5 rows × 64 columns</p>\n",
       "</div>"
      ],
      "text/plain": [
       "   TARGET  NAME_CONTRACT_TYPE  CODE_GENDER  FLAG_OWN_CAR  FLAG_OWN_REALTY  \\\n",
       "0       1                   0            1             0                1   \n",
       "1       0                   0            0             0                0   \n",
       "2       0                   1            1             1                1   \n",
       "3       0                   0            0             0                1   \n",
       "4       0                   0            1             0                1   \n",
       "\n",
       "   CNT_CHILDREN  AMT_INCOME_TOTAL  AMT_CREDIT  AMT_ANNUITY  AMT_GOODS_PRICE  \\\n",
       "0             0          202500.0    406597.5      24700.5         351000.0   \n",
       "1             0          270000.0   1293502.5      35698.5        1129500.0   \n",
       "2             0           67500.0    135000.0       6750.0         135000.0   \n",
       "3             0          135000.0    312682.5      29686.5         297000.0   \n",
       "4             0          121500.0    513000.0      21865.5         513000.0   \n",
       "\n",
       "   ...  FLAG_DOCUMENT_12  FLAG_DOCUMENT_13  FLAG_DOCUMENT_14  \\\n",
       "0  ...                 0                 0                 0   \n",
       "1  ...                 0                 0                 0   \n",
       "2  ...                 0                 0                 0   \n",
       "3  ...                 0                 0                 0   \n",
       "4  ...                 0                 0                 0   \n",
       "\n",
       "   FLAG_DOCUMENT_15  FLAG_DOCUMENT_16  FLAG_DOCUMENT_17  FLAG_DOCUMENT_18  \\\n",
       "0                 0                 0                 0                 0   \n",
       "1                 0                 0                 0                 0   \n",
       "2                 0                 0                 0                 0   \n",
       "3                 0                 0                 0                 0   \n",
       "4                 0                 0                 0                 0   \n",
       "\n",
       "   FLAG_DOCUMENT_19  FLAG_DOCUMENT_20  FLAG_DOCUMENT_21  \n",
       "0                 0                 0                 0  \n",
       "1                 0                 0                 0  \n",
       "2                 0                 0                 0  \n",
       "3                 0                 0                 0  \n",
       "4                 0                 0                 0  \n",
       "\n",
       "[5 rows x 64 columns]"
      ]
     },
     "execution_count": 25,
     "metadata": {},
     "output_type": "execute_result"
    }
   ],
   "source": [
    "from sklearn.preprocessing import LabelEncoder\n",
    "\n",
    "# Create a label encoder object\n",
    "le = LabelEncoder()\n",
    "\n",
    "# Encode categorical columns\n",
    "categorical_columns = list(data.select_dtypes(include=['object']).columns)\n",
    "for column in categorical_columns:\n",
    "    data[column] = le.fit_transform(data[column])\n",
    "\n",
    "    # Reindex rows\n",
    "    data = data.reset_index(drop=True)\n",
    "\n",
    "data.head()"
   ]
  },
  {
   "cell_type": "code",
   "execution_count": 26,
   "metadata": {},
   "outputs": [],
   "source": [
    "datadrop = data.drop(columns=[\"CODE_GENDER\"]) # drop column CODE_GENDER"
   ]
  },
  {
   "cell_type": "code",
   "execution_count": 27,
   "metadata": {},
   "outputs": [],
   "source": [
    "datainv = data.copy()\n",
    "datainv['CODE_GENDER'] = datainv['CODE_GENDER'].apply(lambda x: 1 - x) #invert columns CODE_GENDER"
   ]
  },
  {
   "cell_type": "code",
   "execution_count": 28,
   "metadata": {},
   "outputs": [],
   "source": [
    "DatasetD = DataSet(data=datadrop, y_col=\"TARGET\")\n",
    "train_dataD, test_dataD = DatasetD.get_datasets()\n",
    "train_data_DL, val_data_DL = DatasetD.get_dataloaders(batch_size=2**12)"
   ]
  },
  {
   "cell_type": "code",
   "execution_count": 29,
   "metadata": {},
   "outputs": [],
   "source": [
    "DatasetL = DataSet(data=data, y_col=\"TARGET\")\n",
    "train_data, test_data = DatasetL.get_datasets()\n",
    "train_data_L, val_data_L = DatasetL.get_dataloaders(batch_size=round(512))"
   ]
  },
  {
   "cell_type": "code",
   "execution_count": 30,
   "metadata": {},
   "outputs": [],
   "source": [
    "DatasetInvL = DataSet(data=datainv, y_col=\"TARGET\")\n",
    "train_dataInv, test_dataInv = DatasetInvL.get_datasets()"
   ]
  },
  {
   "cell_type": "code",
   "execution_count": 31,
   "metadata": {},
   "outputs": [
    {
     "data": {
      "text/plain": [
       "NeuralNetwork(\n",
       "  (layer1): Linear(in_features=63, out_features=128, bias=True)\n",
       "  (layer2): Linear(in_features=128, out_features=256, bias=True)\n",
       "  (layer3): Linear(in_features=256, out_features=512, bias=True)\n",
       "  (layer4): Linear(in_features=512, out_features=256, bias=True)\n",
       "  (layer5): Linear(in_features=256, out_features=128, bias=True)\n",
       "  (output): Linear(in_features=128, out_features=2, bias=True)\n",
       "  (relu): ReLU()\n",
       "  (dropout): Dropout(p=0.5, inplace=False)\n",
       "  (normalization1): BatchNorm1d(128, eps=1e-05, momentum=0.1, affine=True, track_running_stats=True)\n",
       "  (normalization0): BatchNorm1d(63, eps=1e-05, momentum=0.1, affine=True, track_running_stats=True)\n",
       "  (normalization2): BatchNorm1d(256, eps=1e-05, momentum=0.1, affine=True, track_running_stats=True)\n",
       "  (normalization3): BatchNorm1d(512, eps=1e-05, momentum=0.1, affine=True, track_running_stats=True)\n",
       "  (sigmoid): Sigmoid()\n",
       ")"
      ]
     },
     "execution_count": 31,
     "metadata": {},
     "output_type": "execute_result"
    }
   ],
   "source": [
    "model = NeuralNetwork(d = 128, input = 63, output = 2, drop=0.5).to(device)\n",
    "\n",
    "# Define the loss function and optimizer\n",
    "# class_counts = torch.bincount(torch.argmax(train_data.y,dim=1))  # Count samples per class\n",
    "# class_weights = 1.0 / class_counts.float()  # Inverse class frequency\n",
    "# class_weights = class_weights / class_weights.sum()  # Normalize\n",
    "# criterion_T = nn.BCELoss(weight=class_weights.to(device),reduction='sum')\n",
    "criterion = nn.BCELoss()\n",
    "# criterion = nn.BCEWithLogitsLoss()\n",
    "optimizer = optim.SGD(model.parameters(), lr=5.0e-2)\n",
    "model.eval()"
   ]
  },
  {
   "cell_type": "code",
   "execution_count": 32,
   "metadata": {},
   "outputs": [
    {
     "data": {
      "text/plain": [
       "<All keys matched successfully>"
      ]
     },
     "execution_count": 32,
     "metadata": {},
     "output_type": "execute_result"
    }
   ],
   "source": [
    "model.load_state_dict(torch.load(\"model/model_house4.pth\"))"
   ]
  },
  {
   "cell_type": "code",
   "execution_count": 41,
   "metadata": {},
   "outputs": [
    {
     "name": "stdout",
     "output_type": "stream",
     "text": [
      "Epoch [2/100], Loss: 0.2421\n",
      "Test Accuracy for class 0: 80.89%, Test Accuracy for class 1: 38.85%\n",
      "Test Loss: 0.5059, Test Accuracy: 70.63%, 81.03%\n",
      "Test Loss: 0.5059, Test Accuracy: 77.45%\n",
      "Epoch [4/100], Loss: 0.2404\n",
      "Test Accuracy for class 0: 81.39%, Test Accuracy for class 1: 37.97%\n",
      "Test Loss: 0.4829, Test Accuracy: 72.30%, 80.74%\n",
      "Test Loss: 0.4829, Test Accuracy: 77.84%\n",
      "Epoch [6/100], Loss: 0.2392\n",
      "Test Accuracy for class 0: 75.96%, Test Accuracy for class 1: 45.65%\n",
      "Test Loss: 0.5245, Test Accuracy: 65.82%, 77.50%\n",
      "Test Loss: 0.5245, Test Accuracy: 73.48%\n",
      "Epoch [8/100], Loss: 0.2374\n",
      "Test Accuracy for class 0: 77.77%, Test Accuracy for class 1: 41.84%\n",
      "Test Loss: 0.4981, Test Accuracy: 67.30%, 78.78%\n",
      "Test Loss: 0.4981, Test Accuracy: 74.83%\n",
      "Epoch [10/100], Loss: 0.2331\n",
      "Test Accuracy for class 0: 81.54%, Test Accuracy for class 1: 38.63%\n",
      "Test Loss: 0.4950, Test Accuracy: 69.79%, 82.35%\n",
      "Test Loss: 0.4950, Test Accuracy: 78.03%\n",
      "Epoch [12/100], Loss: 0.2319\n",
      "Test Accuracy for class 0: 84.09%, Test Accuracy for class 1: 35.45%\n",
      "Test Loss: 0.4874, Test Accuracy: 74.33%, 83.15%\n",
      "Test Loss: 0.4874, Test Accuracy: 80.11%\n",
      "Epoch [14/100], Loss: 0.2297\n",
      "Test Accuracy for class 0: 82.52%, Test Accuracy for class 1: 37.11%\n",
      "Test Loss: 0.4871, Test Accuracy: 71.63%, 82.57%\n",
      "Test Loss: 0.4871, Test Accuracy: 78.80%\n",
      "Epoch [16/100], Loss: 0.2272\n",
      "Test Accuracy for class 0: 82.04%, Test Accuracy for class 1: 37.17%\n",
      "Test Loss: 0.4779, Test Accuracy: 72.11%, 81.65%\n",
      "Test Loss: 0.4779, Test Accuracy: 78.37%\n",
      "Epoch [18/100], Loss: 0.2221\n",
      "Test Accuracy for class 0: 85.07%, Test Accuracy for class 1: 33.42%\n",
      "Test Loss: 0.4804, Test Accuracy: 74.24%, 84.31%\n",
      "Test Loss: 0.4804, Test Accuracy: 80.84%\n",
      "Epoch [20/100], Loss: 0.2237\n",
      "Test Accuracy for class 0: 84.04%, Test Accuracy for class 1: 34.60%\n",
      "Test Loss: 0.4862, Test Accuracy: 73.62%, 83.34%\n",
      "Test Loss: 0.4862, Test Accuracy: 79.99%\n",
      "Epoch [22/100], Loss: 0.2198\n",
      "Test Accuracy for class 0: 84.03%, Test Accuracy for class 1: 35.12%\n",
      "Test Loss: 0.4929, Test Accuracy: 73.59%, 83.41%\n",
      "Test Loss: 0.4929, Test Accuracy: 80.03%\n",
      "Epoch [24/100], Loss: 0.2174\n",
      "Test Accuracy for class 0: 85.29%, Test Accuracy for class 1: 33.96%\n",
      "Test Loss: 0.4687, Test Accuracy: 75.05%, 84.25%\n",
      "Test Loss: 0.4687, Test Accuracy: 81.08%\n",
      "Epoch [26/100], Loss: 0.2166\n",
      "Test Accuracy for class 0: 88.92%, Test Accuracy for class 1: 27.04%\n",
      "Test Loss: 0.4645, Test Accuracy: 78.99%, 86.40%\n",
      "Test Loss: 0.4645, Test Accuracy: 83.85%\n",
      "Epoch [28/100], Loss: 0.2131\n",
      "Test Accuracy for class 0: 86.27%, Test Accuracy for class 1: 30.57%\n",
      "Test Loss: 0.4661, Test Accuracy: 76.84%, 84.26%\n",
      "Test Loss: 0.4661, Test Accuracy: 81.70%\n",
      "Epoch [30/100], Loss: 0.2103\n",
      "Test Accuracy for class 0: 86.90%, Test Accuracy for class 1: 29.83%\n",
      "Test Loss: 0.4667, Test Accuracy: 76.33%, 85.32%\n",
      "Test Loss: 0.4667, Test Accuracy: 82.23%\n",
      "Epoch [32/100], Loss: 0.2106\n",
      "Test Accuracy for class 0: 84.26%, Test Accuracy for class 1: 34.52%\n",
      "Test Loss: 0.4654, Test Accuracy: 75.21%, 82.80%\n",
      "Test Loss: 0.4654, Test Accuracy: 80.19%\n",
      "Epoch [34/100], Loss: 0.2052\n",
      "Test Accuracy for class 0: 85.43%, Test Accuracy for class 1: 31.84%\n",
      "Test Loss: 0.4599, Test Accuracy: 75.31%, 84.05%\n",
      "Test Loss: 0.4599, Test Accuracy: 81.04%\n",
      "Epoch [36/100], Loss: 0.2031\n",
      "Test Accuracy for class 0: 84.90%, Test Accuracy for class 1: 33.90%\n",
      "Test Loss: 0.4580, Test Accuracy: 75.71%, 83.35%\n",
      "Test Loss: 0.4580, Test Accuracy: 80.72%\n",
      "Epoch [38/100], Loss: 0.2063\n",
      "Test Accuracy for class 0: 85.02%, Test Accuracy for class 1: 32.84%\n",
      "Test Loss: 0.4621, Test Accuracy: 75.20%, 83.67%\n",
      "Test Loss: 0.4621, Test Accuracy: 80.75%\n",
      "Epoch [40/100], Loss: 0.1982\n",
      "Test Accuracy for class 0: 85.92%, Test Accuracy for class 1: 31.50%\n",
      "Test Loss: 0.4712, Test Accuracy: 76.42%, 84.11%\n",
      "Test Loss: 0.4712, Test Accuracy: 81.46%\n",
      "Epoch [42/100], Loss: 0.1974\n",
      "Test Accuracy for class 0: 84.31%, Test Accuracy for class 1: 34.38%\n",
      "Test Loss: 0.4604, Test Accuracy: 74.79%, 83.08%\n",
      "Test Loss: 0.4604, Test Accuracy: 80.22%\n",
      "Epoch [44/100], Loss: 0.1949\n",
      "Test Accuracy for class 0: 84.36%, Test Accuracy for class 1: 33.86%\n",
      "Test Loss: 0.4868, Test Accuracy: 74.83%, 83.06%\n",
      "Test Loss: 0.4868, Test Accuracy: 80.23%\n",
      "Epoch [46/100], Loss: 0.1937\n",
      "Test Accuracy for class 0: 84.79%, Test Accuracy for class 1: 33.64%\n",
      "Test Loss: 0.4856, Test Accuracy: 74.88%, 83.60%\n",
      "Test Loss: 0.4856, Test Accuracy: 80.60%\n",
      "Epoch [48/100], Loss: 0.1942\n",
      "Test Accuracy for class 0: 86.85%, Test Accuracy for class 1: 30.21%\n",
      "Test Loss: 0.4709, Test Accuracy: 76.57%, 85.17%\n",
      "Test Loss: 0.4709, Test Accuracy: 82.21%\n",
      "Epoch [50/100], Loss: 0.1894\n",
      "Test Accuracy for class 0: 84.55%, Test Accuracy for class 1: 33.78%\n",
      "Test Loss: 0.4659, Test Accuracy: 75.04%, 83.21%\n",
      "Test Loss: 0.4659, Test Accuracy: 80.39%\n",
      "Epoch [52/100], Loss: 0.1900\n",
      "Test Accuracy for class 0: 87.29%, Test Accuracy for class 1: 29.01%\n",
      "Test Loss: 0.4584, Test Accuracy: 77.86%, 84.97%\n",
      "Test Loss: 0.4584, Test Accuracy: 82.52%\n",
      "Epoch [54/100], Loss: 0.1874\n",
      "Test Accuracy for class 0: 85.64%, Test Accuracy for class 1: 31.07%\n",
      "Test Loss: 0.4747, Test Accuracy: 76.77%, 83.48%\n",
      "Test Loss: 0.4747, Test Accuracy: 81.17%\n",
      "Epoch [56/100], Loss: 0.1852\n",
      "Test Accuracy for class 0: 87.83%, Test Accuracy for class 1: 28.71%\n",
      "Test Loss: 0.4651, Test Accuracy: 78.95%, 85.11%\n",
      "Test Loss: 0.4651, Test Accuracy: 82.99%\n",
      "Epoch [58/100], Loss: 0.1830\n",
      "Test Accuracy for class 0: 84.62%, Test Accuracy for class 1: 32.68%\n",
      "Test Loss: 0.4653, Test Accuracy: 75.21%, 83.07%\n",
      "Test Loss: 0.4653, Test Accuracy: 80.37%\n",
      "Epoch [60/100], Loss: 0.1820\n",
      "Test Accuracy for class 0: 84.97%, Test Accuracy for class 1: 31.23%\n",
      "Test Loss: 0.4871, Test Accuracy: 76.22%, 82.85%\n",
      "Test Loss: 0.4871, Test Accuracy: 80.57%\n",
      "Epoch [62/100], Loss: 0.1830\n",
      "Test Accuracy for class 0: 83.88%, Test Accuracy for class 1: 33.86%\n",
      "Test Loss: 0.4805, Test Accuracy: 75.11%, 82.24%\n",
      "Test Loss: 0.4805, Test Accuracy: 79.78%\n",
      "Epoch [64/100], Loss: 0.1793\n",
      "Test Accuracy for class 0: 85.45%, Test Accuracy for class 1: 32.50%\n",
      "Test Loss: 0.4713, Test Accuracy: 75.95%, 83.82%\n",
      "Test Loss: 0.4713, Test Accuracy: 81.11%\n",
      "Epoch [66/100], Loss: 0.1784\n",
      "Test Accuracy for class 0: 83.18%, Test Accuracy for class 1: 34.16%\n",
      "Test Loss: 0.4781, Test Accuracy: 73.92%, 81.92%\n",
      "Test Loss: 0.4781, Test Accuracy: 79.16%\n",
      "Epoch [68/100], Loss: 0.1787\n",
      "Test Accuracy for class 0: 87.06%, Test Accuracy for class 1: 28.85%\n",
      "Test Loss: 0.4494, Test Accuracy: 77.19%, 84.97%\n",
      "Test Loss: 0.4494, Test Accuracy: 82.29%\n",
      "Epoch [70/100], Loss: 0.1757\n",
      "Test Accuracy for class 0: 86.72%, Test Accuracy for class 1: 29.15%\n",
      "Test Loss: 0.4543, Test Accuracy: 77.18%, 84.54%\n",
      "Test Loss: 0.4543, Test Accuracy: 82.01%\n",
      "Epoch [72/100], Loss: 0.1762\n",
      "Test Accuracy for class 0: 84.66%, Test Accuracy for class 1: 33.04%\n",
      "Test Loss: 0.4676, Test Accuracy: 74.85%, 83.37%\n",
      "Test Loss: 0.4676, Test Accuracy: 80.44%\n",
      "Epoch [74/100], Loss: 0.1726\n",
      "Test Accuracy for class 0: 86.32%, Test Accuracy for class 1: 28.69%\n",
      "Test Loss: 0.4552, Test Accuracy: 76.52%, 84.26%\n",
      "Test Loss: 0.4552, Test Accuracy: 81.60%\n",
      "Epoch [76/100], Loss: 0.1715\n",
      "Test Accuracy for class 0: 86.92%, Test Accuracy for class 1: 27.19%\n",
      "Test Loss: 0.4472, Test Accuracy: 77.28%, 84.53%\n",
      "Test Loss: 0.4472, Test Accuracy: 82.03%\n",
      "Epoch [78/100], Loss: 0.1709\n",
      "Test Accuracy for class 0: 87.61%, Test Accuracy for class 1: 27.29%\n",
      "Test Loss: 0.4544, Test Accuracy: 78.22%, 85.00%\n",
      "Test Loss: 0.4544, Test Accuracy: 82.67%\n",
      "Epoch [80/100], Loss: 0.1724\n",
      "Test Accuracy for class 0: 88.21%, Test Accuracy for class 1: 26.20%\n",
      "Test Loss: 0.4372, Test Accuracy: 78.68%, 85.47%\n",
      "Test Loss: 0.4372, Test Accuracy: 83.13%\n",
      "Epoch [82/100], Loss: 0.1683\n",
      "Test Accuracy for class 0: 86.71%, Test Accuracy for class 1: 28.37%\n",
      "Test Loss: 0.4559, Test Accuracy: 77.34%, 84.34%\n",
      "Test Loss: 0.4559, Test Accuracy: 81.93%\n",
      "Epoch [84/100], Loss: 0.1665\n",
      "Test Accuracy for class 0: 85.15%, Test Accuracy for class 1: 29.95%\n",
      "Test Loss: 0.4693, Test Accuracy: 75.34%, 83.41%\n",
      "Test Loss: 0.4693, Test Accuracy: 80.63%\n",
      "Epoch [86/100], Loss: 0.1662\n",
      "Test Accuracy for class 0: 85.47%, Test Accuracy for class 1: 30.99%\n",
      "Test Loss: 0.4636, Test Accuracy: 76.21%, 83.53%\n",
      "Test Loss: 0.4636, Test Accuracy: 81.01%\n",
      "Epoch [88/100], Loss: 0.1644\n",
      "Test Accuracy for class 0: 87.14%, Test Accuracy for class 1: 28.87%\n",
      "Test Loss: 0.4523, Test Accuracy: 77.03%, 85.18%\n",
      "Test Loss: 0.4523, Test Accuracy: 82.37%\n",
      "Epoch [90/100], Loss: 0.1637\n",
      "Test Accuracy for class 0: 90.45%, Test Accuracy for class 1: 22.41%\n",
      "Test Loss: 0.4269, Test Accuracy: 80.41%, 87.22%\n",
      "Test Loss: 0.4269, Test Accuracy: 84.87%\n",
      "Epoch [92/100], Loss: 0.1605\n",
      "Test Accuracy for class 0: 87.15%, Test Accuracy for class 1: 28.43%\n",
      "Test Loss: 0.4506, Test Accuracy: 77.36%, 84.95%\n",
      "Test Loss: 0.4506, Test Accuracy: 82.34%\n",
      "Epoch [94/100], Loss: 0.1622\n",
      "Test Accuracy for class 0: 88.03%, Test Accuracy for class 1: 25.18%\n",
      "Test Loss: 0.4345, Test Accuracy: 78.38%, 85.24%\n",
      "Test Loss: 0.4345, Test Accuracy: 82.88%\n",
      "Epoch [96/100], Loss: 0.1607\n",
      "Test Accuracy for class 0: 86.26%, Test Accuracy for class 1: 29.51%\n",
      "Test Loss: 0.4430, Test Accuracy: 76.03%, 84.54%\n",
      "Test Loss: 0.4430, Test Accuracy: 81.61%\n",
      "Epoch [98/100], Loss: 0.1598\n",
      "Test Accuracy for class 0: 89.46%, Test Accuracy for class 1: 23.38%\n",
      "Test Loss: 0.4416, Test Accuracy: 79.54%, 86.42%\n",
      "Test Loss: 0.4416, Test Accuracy: 84.05%\n",
      "Epoch [100/100], Loss: 0.1609\n",
      "Test Accuracy for class 0: 88.98%, Test Accuracy for class 1: 24.82%\n",
      "Test Loss: 0.4359, Test Accuracy: 79.55%, 85.91%\n",
      "Test Loss: 0.4359, Test Accuracy: 83.72%\n"
     ]
    }
   ],
   "source": [
    "# Training loop\n",
    "num_epochs = 100\n",
    "for epoch in range(num_epochs):\n",
    "    model.train()\n",
    "    all_loss = []\n",
    "    avg_loss = 0\n",
    "    for batch_idx, (inputs, targets) in enumerate(train_data_L):\n",
    "        inputs, targets = inputs.to(0), targets.to(0)\n",
    "    # for i, data in enumerate(train_data_DL):\n",
    "    #     inputs, targets = data\n",
    "    #     inputs, targets = inputs.to(device), targets.to(device)\n",
    "        if inputs.size(0) == 1:\n",
    "            continue\n",
    "        # Zero the gradients\n",
    "        optimizer.zero_grad()\n",
    "    \n",
    "        # Forward pass\n",
    "        outputs = model(inputs)\n",
    "        loss = criterion(outputs, targets.float())\n",
    "        # all_loss.append(criterion_T(outputs, targets.float()).item())\n",
    "        all_loss.append(loss.item())\n",
    "    \n",
    "        # Backward pass and optimization\n",
    "        loss.backward()\n",
    "        optimizer.step()\n",
    "    # optimizer.zero_grad()\n",
    "    \n",
    "    # # Forward pass\n",
    "    # outputs = model(train_data.X)\n",
    "    # loss = criterion(outputs, train_data.y.float())\n",
    "    \n",
    "    # # Backward pass and optimization\n",
    "    # loss.backward()\n",
    "    # optimizer.step()\n",
    "    \n",
    "    if (epoch+1) % 2 == 0:\n",
    "        avg_loss = sum(all_loss) / len(all_loss)\n",
    "        print(f'Epoch [{epoch+1}/{num_epochs}], Loss: {avg_loss:.4f}')\n",
    "        model.eval()\n",
    "        with torch.no_grad():\n",
    "            # Forward pass\n",
    "            test_outputs = model(test_data.X)\n",
    "    \n",
    "            # Calculate the loss\n",
    "            test_loss = criterion(test_outputs, test_data.y.float())\n",
    "    \n",
    "            # Calculate accuracy\n",
    "            predicted = torch.argmax(test_outputs, 1)\n",
    "            labels = torch.argmax(test_data.y, 1)\n",
    "            accuracy = (predicted == labels).sum().item() / labels.size(0)\n",
    "            accuracy_f = (predicted == labels)[DatasetL.X_test['CODE_GENDER'].values == 0].sum().item() / labels[DatasetL.X_test['CODE_GENDER'].values == 0].size(0)\n",
    "            accuracy_m = (predicted == labels)[DatasetL.X_test['CODE_GENDER'].values == 1].sum().item() / labels[DatasetL.X_test['CODE_GENDER'].values == 1].size(0)\n",
    "            accuracy_0 = (predicted[labels == 0] == labels[labels == 0]).sum().item() / labels[labels == 0].size(0)\n",
    "            accuracy_1 = (predicted[labels == 1] == labels[labels == 1]).sum().item() / labels[labels == 1].size(0)\n",
    "            print(f'Test Accuracy for class 0: {accuracy_0 * 100:.2f}%, Test Accuracy for class 1: {accuracy_1 * 100:.2f}%')\n",
    "\n",
    "            print(f'Test Loss: {test_loss.item():.4f}, Test Accuracy: {accuracy_m * 100:.2f}%, {accuracy_f * 100:.2f}%')\n",
    "            # print(f'Test Loss_f: {test_loss.item():.4f}, Test Accuracy_f: {accuracy_f * 100:.2f}%, {accuracy_f * 100:.2f}%')\n",
    "    \n",
    "            print(f'Test Loss: {test_loss.item():.4f}, Test Accuracy: {accuracy * 100:.2f}%')"
   ]
  },
  {
   "cell_type": "code",
   "execution_count": null,
   "metadata": {},
   "outputs": [],
   "source": [
    "# torch.save(model.state_dict(), 'model/model_house5.pth')"
   ]
  },
  {
   "cell_type": "code",
   "execution_count": 33,
   "metadata": {},
   "outputs": [
    {
     "name": "stdout",
     "output_type": "stream",
     "text": [
      "Test Loss: 0.5781, Test Accuracy: 57.51%, 61.07%\n",
      "Test Loss: 0.5781, Test Accuracy: 59.85%\n"
     ]
    }
   ],
   "source": [
    "# Evaluation loop\n",
    "model.eval()\n",
    "with torch.no_grad():\n",
    "    # Forward pass\n",
    "    test_outputs = model(test_data.X)\n",
    "\n",
    "    # Calculate the loss\n",
    "    test_loss = criterion(test_outputs, test_data.y.float())\n",
    "    \n",
    "    # Calculate accuracy\n",
    "    predicted = torch.argmax(test_outputs, 1)\n",
    "    labels = torch.argmax(test_data.y, 1)\n",
    "    accuracy = (predicted == labels).sum().item() / labels.size(0)\n",
    "    accuracy_f = (predicted == labels)[DatasetL.X_test['CODE_GENDER'].values == 0].sum().item() / labels[DatasetL.X_test['CODE_GENDER'].values == 0].size(0)\n",
    "    accuracy_m = (predicted == labels)[DatasetL.X_test['CODE_GENDER'].values == 1].sum().item() / labels[DatasetL.X_test['CODE_GENDER'].values == 1].size(0)\n",
    "    print(f'Test Loss: {test_loss.item():.4f}, Test Accuracy: {accuracy_m * 100:.2f}%, {accuracy_f * 100:.2f}%')\n",
    "    # print(f'Test Loss_f: {test_loss.item():.4f}, Test Accuracy_f: {accuracy_f * 100:.2f}%, {accuracy_f * 100:.2f}%')\n",
    "    print(f'Test Loss: {test_loss.item():.4f}, Test Accuracy: {accuracy * 100:.2f}%')"
   ]
  },
  {
   "cell_type": "code",
   "execution_count": 34,
   "metadata": {},
   "outputs": [
    {
     "data": {
      "text/plain": [
       "tensor(25675, device='cuda:0')"
      ]
     },
     "execution_count": 34,
     "metadata": {},
     "output_type": "execute_result"
    }
   ],
   "source": [
    "sum(predicted == 1)"
   ]
  },
  {
   "cell_type": "code",
   "execution_count": 35,
   "metadata": {},
   "outputs": [],
   "source": [
    "men_0 = predicted[DatasetL.X_test['CODE_GENDER'].values == 0]\n",
    "women_0 = predicted[DatasetL.X_test['CODE_GENDER'].values == 1]"
   ]
  },
  {
   "cell_type": "code",
   "execution_count": 36,
   "metadata": {},
   "outputs": [
    {
     "data": {
      "text/plain": [
       "tensor(16081, device='cuda:0')"
      ]
     },
     "execution_count": 36,
     "metadata": {},
     "output_type": "execute_result"
    }
   ],
   "source": [
    "sum(men_0==1)"
   ]
  },
  {
   "cell_type": "code",
   "execution_count": 37,
   "metadata": {},
   "outputs": [
    {
     "data": {
      "text/plain": [
       "tensor(9594, device='cuda:0')"
      ]
     },
     "execution_count": 37,
     "metadata": {},
     "output_type": "execute_result"
    }
   ],
   "source": [
    "sum((women_0==1))"
   ]
  },
  {
   "cell_type": "code",
   "execution_count": 38,
   "metadata": {},
   "outputs": [
    {
     "data": {
      "text/plain": [
       "1.4849200920340775"
      ]
     },
     "execution_count": 38,
     "metadata": {},
     "output_type": "execute_result"
    }
   ],
   "source": [
    "len(men_0[men_0 == 0])/len(men_0[men_0 == 1])"
   ]
  },
  {
   "cell_type": "code",
   "execution_count": 39,
   "metadata": {},
   "outputs": [
    {
     "data": {
      "text/plain": [
       "1.1832395247029392"
      ]
     },
     "execution_count": 39,
     "metadata": {},
     "output_type": "execute_result"
    }
   ],
   "source": [
    "len(women_0[women_0 == 0])/len(women_0[women_0 == 1])"
   ]
  },
  {
   "cell_type": "code",
   "execution_count": 40,
   "metadata": {},
   "outputs": [
    {
     "name": "stdout",
     "output_type": "stream",
     "text": [
      "Test Loss: 0.6104, Test Accuracy: 51.01%, 64.48%\n",
      "Test Loss: 0.6104, Test Accuracy: 55.64%\n"
     ]
    }
   ],
   "source": [
    "# Evaluation loop\n",
    "model.eval()\n",
    "with torch.no_grad():\n",
    "    # Forward pass\n",
    "    test_outputs = model(test_dataInv.X)\n",
    "\n",
    "    # Calculate the loss\n",
    "    test_loss = criterion(test_outputs, test_dataInv.y.float())\n",
    "    \n",
    "    # Calculate accuracy\n",
    "    predicted = torch.argmax(test_outputs, 1)\n",
    "    labels = torch.argmax(test_dataInv.y, 1)\n",
    "    accuracy = (predicted == labels).sum().item() / labels.size(0)\n",
    "    accuracy_f = (predicted == labels)[DatasetInvL.X_test['CODE_GENDER'].values == 0].sum().item() / labels[DatasetInvL.X_test['CODE_GENDER'].values == 0].size(0)\n",
    "    accuracy_m = (predicted == labels)[DatasetInvL.X_test['CODE_GENDER'].values == 1].sum().item() / labels[DatasetInvL.X_test['CODE_GENDER'].values == 1].size(0)\n",
    "    print(f'Test Loss: {test_loss.item():.4f}, Test Accuracy: {accuracy_m * 100:.2f}%, {accuracy_f * 100:.2f}%')\n",
    "    # print(f'Test Loss_f: {test_loss.item():.4f}, Test Accuracy_f: {accuracy_f * 100:.2f}%, {accuracy_f * 100:.2f}%')\n",
    "    print(f'Test Loss: {test_loss.item():.4f}, Test Accuracy: {accuracy * 100:.2f}%')"
   ]
  },
  {
   "cell_type": "code",
   "execution_count": 41,
   "metadata": {},
   "outputs": [],
   "source": [
    "men_1 = predicted[DatasetInvL.X_test['CODE_GENDER'].values == 0]\n",
    "women_1 = predicted[DatasetInvL.X_test['CODE_GENDER'].values == 1]"
   ]
  },
  {
   "cell_type": "code",
   "execution_count": 42,
   "metadata": {},
   "outputs": [
    {
     "data": {
      "text/plain": [
       "1.7192003115669219"
      ]
     },
     "execution_count": 42,
     "metadata": {},
     "output_type": "execute_result"
    }
   ],
   "source": [
    "len(men_1[men_1 == 0])/len(men_1[men_1 == 1])"
   ]
  },
  {
   "cell_type": "code",
   "execution_count": 43,
   "metadata": {},
   "outputs": [
    {
     "data": {
      "text/plain": [
       "0.9321148825065274"
      ]
     },
     "execution_count": 43,
     "metadata": {},
     "output_type": "execute_result"
    }
   ],
   "source": [
    "len(women_1[women_1 == 0])/len(women_1[women_1 == 1])"
   ]
  },
  {
   "cell_type": "code",
   "execution_count": 44,
   "metadata": {},
   "outputs": [
    {
     "data": {
      "image/png": "[encoded data removed]",
      "text/plain": [
       "<Figure size 640x480 with 1 Axes>"
      ]
     },
     "metadata": {},
     "output_type": "display_data"
    }
   ],
   "source": [
    "x = [len(men_0[men_0 == 0]), len(women_0[women_0 == 0]), len(men_1[men_1 == 0]), len(women_1[women_1 == 0])]\n",
    "y = [len(men_0[men_0 == 1]), len(women_0[women_0 == 1]), len(men_1[men_1 == 1]), len(women_1[women_1 == 1])]\n",
    "plt.figure(0)\n",
    "plt.scatter(x, y,c=['blue', 'green', 'yellow', 'red'])\n",
    "# plt.plot(x[:2], y[:2], 'k-', lw=2)\n",
    "plt.arrow(x[0], y[0], x[1] - x[0], y[1] - y[0], head_width=200, head_length=500, fc='k', ec='k')\n",
    "plt.arrow(x[2], y[2], x[3] - x[2], y[3] - y[2], head_width=200, head_length=500, fc='k', ec='k')\n",
    "for i in range(len(x)):\n",
    "    plt.annotate(f'({x[i]}, {y[i]})', (x[i], y[i]), textcoords=\"offset points\", xytext=(0,10), ha='center')\n",
    "plt.savefig(\"outputs/output_with_CODE_GENDER_unfairness1.png\")\n",
    "# plt.plot(x[2:], y[2:], 'k-', lw=2)"
   ]
  },
  {
   "cell_type": "code",
   "execution_count": null,
   "metadata": {},
   "outputs": [],
   "source": [
    "###Drop gender columns"
   ]
  },
  {
   "cell_type": "code",
   "execution_count": 54,
   "metadata": {},
   "outputs": [
    {
     "data": {
      "text/plain": [
       "NeuralNetwork(\n",
       "  (layer1): Linear(in_features=22, out_features=4, bias=True)\n",
       "  (layer2): Linear(in_features=4, out_features=8, bias=True)\n",
       "  (layer3): Linear(in_features=8, out_features=4, bias=True)\n",
       "  (output): Linear(in_features=4, out_features=2, bias=True)\n",
       "  (relu): ReLU()\n",
       "  (normalization): BatchNorm1d(4, eps=1e-05, momentum=0.1, affine=True, track_running_stats=True)\n",
       "  (sigmoid): Sigmoid()\n",
       ")"
      ]
     },
     "execution_count": 54,
     "metadata": {},
     "output_type": "execute_result"
    }
   ],
   "source": [
    "model = NeuralNetwork(d = 4, input = 22, output = 2).to(device)\n",
    "\n",
    "# Define the loss function and optimizer\n",
    "class_counts = torch.bincount(torch.argmax(train_dataD.y,dim=1))  # Count samples per class\n",
    "class_weights = 1.0 / class_counts.float()  # Inverse class frequency\n",
    "# class_weights = class_weights / class_weights.sum()  # Normalize\n",
    "criterion_T = nn.BCELoss(weight=class_weights.to(device),reduction='sum')\n",
    "criterion = nn.BCELoss()\n",
    "# criterion = nn.BCEWithLogitsLoss()\n",
    "optimizer = optim.Adam(model.parameters(), lr=2.5e-5)\n",
    "model.eval()"
   ]
  },
  {
   "cell_type": "code",
   "execution_count": null,
   "metadata": {},
   "outputs": [
    {
     "data": {
      "text/plain": [
       "<All keys matched successfully>"
      ]
     },
     "execution_count": 20,
     "metadata": {},
     "output_type": "execute_result"
    }
   ],
   "source": [
    "model.load_state_dict(torch.load(\"model/model_house4D.pth\"))"
   ]
  },
  {
   "cell_type": "code",
   "execution_count": 55,
   "metadata": {},
   "outputs": [
    {
     "name": "stdout",
     "output_type": "stream",
     "text": [
      "Epoch [2/100], Loss: 0.7126\n",
      "Test Loss: 0.7331, Test Accuracy: 10.07%, 6.96%\n",
      "Test Loss: 0.7331, Test Accuracy: 8.02%\n",
      "Epoch [4/100], Loss: 0.7117\n",
      "Test Loss: 0.7306, Test Accuracy: 10.07%, 6.96%\n",
      "Test Loss: 0.7306, Test Accuracy: 8.02%\n",
      "Epoch [6/100], Loss: 0.7108\n",
      "Test Loss: 0.7279, Test Accuracy: 10.07%, 6.96%\n",
      "Test Loss: 0.7279, Test Accuracy: 8.02%\n",
      "Epoch [8/100], Loss: 0.7100\n",
      "Test Loss: 0.7257, Test Accuracy: 10.07%, 6.96%\n",
      "Test Loss: 0.7257, Test Accuracy: 8.02%\n",
      "Epoch [10/100], Loss: 0.7091\n",
      "Test Loss: 0.7236, Test Accuracy: 10.07%, 6.96%\n",
      "Test Loss: 0.7236, Test Accuracy: 8.02%\n",
      "Epoch [12/100], Loss: 0.7081\n",
      "Test Loss: 0.7213, Test Accuracy: 10.07%, 6.96%\n",
      "Test Loss: 0.7213, Test Accuracy: 8.02%\n",
      "Epoch [14/100], Loss: 0.7073\n",
      "Test Loss: 0.7185, Test Accuracy: 10.07%, 6.96%\n",
      "Test Loss: 0.7185, Test Accuracy: 8.02%\n",
      "Epoch [16/100], Loss: 0.7065\n",
      "Test Loss: 0.7174, Test Accuracy: 10.53%, 8.19%\n",
      "Test Loss: 0.7174, Test Accuracy: 8.99%\n",
      "Epoch [18/100], Loss: 0.7057\n",
      "Test Loss: 0.7158, Test Accuracy: 13.30%, 15.84%\n",
      "Test Loss: 0.7158, Test Accuracy: 14.97%\n",
      "Epoch [20/100], Loss: 0.7050\n",
      "Test Loss: 0.7141, Test Accuracy: 15.00%, 20.32%\n",
      "Test Loss: 0.7141, Test Accuracy: 18.50%\n",
      "Epoch [22/100], Loss: 0.7045\n",
      "Test Loss: 0.7125, Test Accuracy: 15.54%, 21.99%\n",
      "Test Loss: 0.7125, Test Accuracy: 19.78%\n",
      "Epoch [24/100], Loss: 0.7038\n",
      "Test Loss: 0.7123, Test Accuracy: 14.55%, 19.33%\n",
      "Test Loss: 0.7123, Test Accuracy: 17.69%\n",
      "Epoch [26/100], Loss: 0.7032\n",
      "Test Loss: 0.7160, Test Accuracy: 10.13%, 7.13%\n",
      "Test Loss: 0.7160, Test Accuracy: 8.16%\n",
      "Epoch [28/100], Loss: 0.7026\n",
      "Test Loss: 0.7125, Test Accuracy: 13.12%, 15.34%\n",
      "Test Loss: 0.7125, Test Accuracy: 14.58%\n",
      "Epoch [30/100], Loss: 0.7019\n",
      "Test Loss: 0.7081, Test Accuracy: 20.64%, 30.86%\n",
      "Test Loss: 0.7081, Test Accuracy: 27.35%\n",
      "Epoch [32/100], Loss: 0.7014\n",
      "Test Loss: 0.7083, Test Accuracy: 21.49%, 30.68%\n",
      "Test Loss: 0.7083, Test Accuracy: 27.53%\n",
      "Epoch [34/100], Loss: 0.7008\n",
      "Test Loss: 0.7091, Test Accuracy: 17.95%, 24.99%\n",
      "Test Loss: 0.7091, Test Accuracy: 22.58%\n",
      "Epoch [36/100], Loss: 0.7003\n",
      "Test Loss: 0.7089, Test Accuracy: 17.40%, 24.36%\n",
      "Test Loss: 0.7089, Test Accuracy: 21.97%\n",
      "Epoch [38/100], Loss: 0.6998\n",
      "Test Loss: 0.7058, Test Accuracy: 24.16%, 35.29%\n",
      "Test Loss: 0.7058, Test Accuracy: 31.48%\n",
      "Epoch [40/100], Loss: 0.6991\n",
      "Test Loss: 0.7108, Test Accuracy: 13.91%, 17.44%\n",
      "Test Loss: 0.7108, Test Accuracy: 16.23%\n",
      "Epoch [42/100], Loss: 0.6986\n",
      "Test Loss: 0.7128, Test Accuracy: 11.50%, 11.17%\n",
      "Test Loss: 0.7128, Test Accuracy: 11.28%\n",
      "Epoch [44/100], Loss: 0.6981\n",
      "Test Loss: 0.7072, Test Accuracy: 19.04%, 27.96%\n",
      "Test Loss: 0.7072, Test Accuracy: 24.90%\n",
      "Epoch [46/100], Loss: 0.6975\n",
      "Test Loss: 0.7054, Test Accuracy: 23.43%, 32.26%\n",
      "Test Loss: 0.7054, Test Accuracy: 29.23%\n",
      "Epoch [48/100], Loss: 0.6970\n",
      "Test Loss: 0.7040, Test Accuracy: 25.82%, 34.96%\n",
      "Test Loss: 0.7040, Test Accuracy: 31.83%\n",
      "Epoch [50/100], Loss: 0.6964\n",
      "Test Loss: 0.7090, Test Accuracy: 20.04%, 27.62%\n",
      "Test Loss: 0.7090, Test Accuracy: 25.02%\n",
      "Epoch [52/100], Loss: 0.6961\n",
      "Test Loss: 0.7039, Test Accuracy: 25.74%, 33.59%\n",
      "Test Loss: 0.7039, Test Accuracy: 30.90%\n",
      "Epoch [54/100], Loss: 0.6956\n",
      "Test Loss: 0.7084, Test Accuracy: 22.34%, 29.69%\n",
      "Test Loss: 0.7084, Test Accuracy: 27.17%\n",
      "Epoch [56/100], Loss: 0.6950\n",
      "Test Loss: 0.7048, Test Accuracy: 25.73%, 33.05%\n",
      "Test Loss: 0.7048, Test Accuracy: 30.54%\n",
      "Epoch [58/100], Loss: 0.6945\n",
      "Test Loss: 0.7020, Test Accuracy: 28.68%, 36.59%\n",
      "Test Loss: 0.7020, Test Accuracy: 33.88%\n",
      "Epoch [60/100], Loss: 0.6942\n",
      "Test Loss: 0.7036, Test Accuracy: 29.84%, 37.20%\n",
      "Test Loss: 0.7036, Test Accuracy: 34.67%\n",
      "Epoch [62/100], Loss: 0.6934\n",
      "Test Loss: 0.7011, Test Accuracy: 32.46%, 39.70%\n",
      "Test Loss: 0.7011, Test Accuracy: 37.22%\n",
      "Epoch [64/100], Loss: 0.6929\n",
      "Test Loss: 0.7047, Test Accuracy: 33.13%, 40.07%\n",
      "Test Loss: 0.7047, Test Accuracy: 37.69%\n",
      "Epoch [66/100], Loss: 0.6923\n",
      "Test Loss: 0.7020, Test Accuracy: 35.73%, 42.48%\n",
      "Test Loss: 0.7020, Test Accuracy: 40.17%\n",
      "Epoch [68/100], Loss: 0.6918\n",
      "Test Loss: 0.6994, Test Accuracy: 38.66%, 44.91%\n",
      "Test Loss: 0.6994, Test Accuracy: 42.77%\n",
      "Epoch [70/100], Loss: 0.6914\n",
      "Test Loss: 0.7015, Test Accuracy: 38.60%, 44.62%\n",
      "Test Loss: 0.7015, Test Accuracy: 42.56%\n",
      "Epoch [72/100], Loss: 0.6910\n",
      "Test Loss: 0.7012, Test Accuracy: 38.92%, 44.91%\n",
      "Test Loss: 0.7012, Test Accuracy: 42.86%\n",
      "Epoch [74/100], Loss: 0.6905\n",
      "Test Loss: 0.6986, Test Accuracy: 39.85%, 45.82%\n",
      "Test Loss: 0.6986, Test Accuracy: 43.78%\n",
      "Epoch [76/100], Loss: 0.6903\n",
      "Test Loss: 0.6999, Test Accuracy: 39.93%, 45.83%\n",
      "Test Loss: 0.6999, Test Accuracy: 43.80%\n",
      "Epoch [78/100], Loss: 0.6898\n",
      "Test Loss: 0.6984, Test Accuracy: 40.17%, 45.99%\n",
      "Test Loss: 0.6984, Test Accuracy: 44.00%\n",
      "Epoch [80/100], Loss: 0.6895\n",
      "Test Loss: 0.6953, Test Accuracy: 40.80%, 46.61%\n",
      "Test Loss: 0.6953, Test Accuracy: 44.62%\n",
      "Epoch [82/100], Loss: 0.6893\n",
      "Test Loss: 0.6973, Test Accuracy: 40.58%, 46.42%\n",
      "Test Loss: 0.6973, Test Accuracy: 44.42%\n",
      "Epoch [84/100], Loss: 0.6890\n",
      "Test Loss: 0.6979, Test Accuracy: 40.54%, 46.36%\n",
      "Test Loss: 0.6979, Test Accuracy: 44.37%\n",
      "Epoch [86/100], Loss: 0.6886\n",
      "Test Loss: 0.6953, Test Accuracy: 40.98%, 46.76%\n",
      "Test Loss: 0.6953, Test Accuracy: 44.78%\n",
      "Epoch [88/100], Loss: 0.6883\n",
      "Test Loss: 0.6949, Test Accuracy: 41.37%, 47.04%\n",
      "Test Loss: 0.6949, Test Accuracy: 45.10%\n",
      "Epoch [90/100], Loss: 0.6879\n",
      "Test Loss: 0.6940, Test Accuracy: 41.74%, 47.35%\n",
      "Test Loss: 0.6940, Test Accuracy: 45.43%\n",
      "Epoch [92/100], Loss: 0.6876\n",
      "Test Loss: 0.6955, Test Accuracy: 41.37%, 47.08%\n",
      "Test Loss: 0.6955, Test Accuracy: 45.12%\n",
      "Epoch [94/100], Loss: 0.6875\n",
      "Test Loss: 0.6919, Test Accuracy: 42.21%, 47.86%\n",
      "Test Loss: 0.6919, Test Accuracy: 45.92%\n",
      "Epoch [96/100], Loss: 0.6875\n",
      "Test Loss: 0.6909, Test Accuracy: 42.22%, 47.91%\n",
      "Test Loss: 0.6909, Test Accuracy: 45.96%\n",
      "Epoch [98/100], Loss: 0.6871\n",
      "Test Loss: 0.6941, Test Accuracy: 41.87%, 47.46%\n",
      "Test Loss: 0.6941, Test Accuracy: 45.55%\n",
      "Epoch [100/100], Loss: 0.6870\n",
      "Test Loss: 0.6939, Test Accuracy: 42.01%, 47.52%\n",
      "Test Loss: 0.6939, Test Accuracy: 45.63%\n"
     ]
    }
   ],
   "source": [
    "# Training loop\n",
    "num_epochs = 100\n",
    "for epoch in range(num_epochs):\n",
    "    model.train()\n",
    "    # for batch_idx, (inputs, targets) in enumerate(train_loader):\n",
    "    #    inputs, targets = inputs.to(0), targets.to(0)\n",
    "    all_loss = []\n",
    "    avg_loss = 0\n",
    "    for batch_idx, (inputs, targets) in enumerate(train_data_L):\n",
    "        inputs, targets = inputs.to(0), targets.to(0)\n",
    "    # for i, data in enumerate(train_data_L):\n",
    "    #     inputs, targets = data\n",
    "    #     inputs, targets = inputs.to(device), targets.to(device)\n",
    "        if inputs.size(0) == 1:\n",
    "            continue\n",
    "        # Zero the gradients\n",
    "        optimizer.zero_grad()\n",
    "    \n",
    "        # Forward pass\n",
    "        outputs = model(inputs[:, [i for i in range(inputs.shape[1]) if i != 4]])\n",
    "        loss = criterion(outputs, targets.float())\n",
    "        # all_loss.append(criterion_T(outputs, targets.float()).item())\n",
    "        all_loss.append(loss.item())\n",
    "    \n",
    "        # Backward pass and optimization\n",
    "        loss.backward()\n",
    "        optimizer.step()\n",
    "    # optimizer.zero_grad()\n",
    "    \n",
    "    # # Forward pass\n",
    "    # outputs = model(train_data.X[:, [i for i in range(train_data.X.shape[1]) if i != 1]])\n",
    "    # loss = criterion(outputs, train_data.y.float())\n",
    "    \n",
    "    # # Backward pass and optimization\n",
    "    # loss.backward()\n",
    "    # optimizer.step()\n",
    "    \n",
    "    if (epoch+1) % 2 == 0:\n",
    "        avg_loss = sum(all_loss) / len(all_loss)\n",
    "        print(f'Epoch [{epoch+1}/{num_epochs}], Loss: {avg_loss:.4f}')\n",
    "        model.eval()\n",
    "        with torch.no_grad():\n",
    "            # Forward pass\n",
    "            test_outputs = model(test_data.X[:, [i for i in range(test_data.X.shape[1]) if i != 1]])\n",
    "    \n",
    "            # Calculate the loss\n",
    "            test_loss = criterion(test_outputs, test_data.y.float())\n",
    "    \n",
    "            # Calculate accuracy\n",
    "            predicted = torch.argmax(test_outputs, 1)\n",
    "            labels = torch.argmax(test_data.y, 1)\n",
    "            accuracy = (predicted == labels).sum().item() / labels.size(0)\n",
    "            accuracy_f = (predicted == labels)[DatasetL.X_test['CODE_GENDER'].values == 0].sum().item() / labels[DatasetL.X_test['CODE_GENDER'].values == 0].size(0)\n",
    "            accuracy_m = (predicted == labels)[DatasetL.X_test['CODE_GENDER'].values == 1].sum().item() / labels[DatasetL.X_test['CODE_GENDER'].values == 1].size(0)\n",
    "\n",
    "            print(f'Test Loss: {test_loss.item():.4f}, Test Accuracy: {accuracy_m * 100:.2f}%, {accuracy_f * 100:.2f}%')\n",
    "            # print(f'Test Loss_f: {test_loss.item():.4f}, Test Accuracy_f: {accuracy_f * 100:.2f}%, {accuracy_f * 100:.2f}%')\n",
    "    \n",
    "            print(f'Test Loss: {test_loss.item():.4f}, Test Accuracy: {accuracy * 100:.2f}%')"
   ]
  },
  {
   "cell_type": "code",
   "execution_count": null,
   "metadata": {},
   "outputs": [],
   "source": [
    "# torch.save(model.state_dict(), 'model/model_house5D.pth')"
   ]
  },
  {
   "cell_type": "code",
   "execution_count": 57,
   "metadata": {},
   "outputs": [
    {
     "name": "stdout",
     "output_type": "stream",
     "text": [
      "Test Loss: 0.6939, Test Accuracy: 42.01%, 47.52%\n",
      "Test Loss: 0.6939, Test Accuracy: 45.63%\n"
     ]
    }
   ],
   "source": [
    "# Evaluation loop\n",
    "model.eval()\n",
    "with torch.no_grad():\n",
    "    # Forward pass\n",
    "    test_outputs = model(test_data.X[:, [i for i in range(test_data.X.shape[1]) if i != 1]])\n",
    "\n",
    "    # Calculate the loss\n",
    "    test_loss = criterion(test_outputs, test_data.y.float())\n",
    "    \n",
    "    # Calculate accuracy\n",
    "    predicted = torch.argmax(test_outputs, 1)\n",
    "    labels = torch.argmax(test_data.y, 1)\n",
    "    accuracy = (predicted == labels).sum().item() / labels.size(0)\n",
    "    accuracy_f = (predicted == labels)[DatasetL.X_test['CODE_GENDER'].values == 0].sum().item() / labels[DatasetL.X_test['CODE_GENDER'].values == 0].size(0)\n",
    "    accuracy_m = (predicted == labels)[DatasetL.X_test['CODE_GENDER'].values == 1].sum().item() / labels[DatasetL.X_test['CODE_GENDER'].values == 1].size(0)\n",
    "    print(f'Test Loss: {test_loss.item():.4f}, Test Accuracy: {accuracy_m * 100:.2f}%, {accuracy_f * 100:.2f}%')\n",
    "    # print(f'Test Loss_f: {test_loss.item():.4f}, Test Accuracy_f: {accuracy_f * 100:.2f}%, {accuracy_f * 100:.2f}%')\n",
    "    print(f'Test Loss: {test_loss.item():.4f}, Test Accuracy: {accuracy * 100:.2f}%')"
   ]
  },
  {
   "cell_type": "code",
   "execution_count": 58,
   "metadata": {},
   "outputs": [],
   "source": [
    "men_0 = predicted[DatasetL.X_test['CODE_GENDER'].values == 0]\n",
    "women_0 = predicted[DatasetL.X_test['CODE_GENDER'].values == 1]"
   ]
  },
  {
   "cell_type": "code",
   "execution_count": 59,
   "metadata": {},
   "outputs": [
    {
     "data": {
      "text/plain": [
       "0.8239366515837104"
      ]
     },
     "execution_count": 59,
     "metadata": {},
     "output_type": "execute_result"
    }
   ],
   "source": [
    "len(men_0[men_0 == 0])/len(men_0[men_0 == 1])"
   ]
  },
  {
   "cell_type": "code",
   "execution_count": 60,
   "metadata": {},
   "outputs": [
    {
     "data": {
      "text/plain": [
       "0.6027930402930403"
      ]
     },
     "execution_count": 60,
     "metadata": {},
     "output_type": "execute_result"
    }
   ],
   "source": [
    "len(women_0[women_0 == 0])/len(women_0[women_0 == 1])"
   ]
  },
  {
   "cell_type": "code",
   "execution_count": 61,
   "metadata": {},
   "outputs": [
    {
     "name": "stdout",
     "output_type": "stream",
     "text": [
      "Test Loss: 0.6939, Test Accuracy: 47.52%, 42.01%\n",
      "Test Loss: 0.6939, Test Accuracy: 45.63%\n"
     ]
    }
   ],
   "source": [
    "# Evaluation loop\n",
    "model.eval()\n",
    "with torch.no_grad():\n",
    "    # Forward pass\n",
    "    test_outputs = model(test_dataInv.X[:, [i for i in range(test_data.X.shape[1]) if i != 1]])\n",
    "\n",
    "    # Calculate the loss\n",
    "    test_loss = criterion(test_outputs, test_dataInv.y.float())\n",
    "    \n",
    "    # Calculate accuracy\n",
    "    predicted = torch.argmax(test_outputs, 1)\n",
    "    labels = torch.argmax(test_dataInv.y, 1)\n",
    "    accuracy = (predicted == labels).sum().item() / labels.size(0)\n",
    "    accuracy_f = (predicted == labels)[DatasetInvL.X_test['CODE_GENDER'].values == 0].sum().item() / labels[DatasetInvL.X_test['CODE_GENDER'].values == 0].size(0)\n",
    "    accuracy_m = (predicted == labels)[DatasetInvL.X_test['CODE_GENDER'].values == 1].sum().item() / labels[DatasetInvL.X_test['CODE_GENDER'].values == 1].size(0)\n",
    "    print(f'Test Loss: {test_loss.item():.4f}, Test Accuracy: {accuracy_m * 100:.2f}%, {accuracy_f * 100:.2f}%')\n",
    "    # print(f'Test Loss_f: {test_loss.item():.4f}, Test Accuracy_f: {accuracy_f * 100:.2f}%, {accuracy_f * 100:.2f}%')\n",
    "    print(f'Test Loss: {test_loss.item():.4f}, Test Accuracy: {accuracy * 100:.2f}%')"
   ]
  },
  {
   "cell_type": "code",
   "execution_count": 62,
   "metadata": {},
   "outputs": [],
   "source": [
    "men_1 = predicted[DatasetInvL.X_test['CODE_GENDER'].values == 0]\n",
    "women_1 = predicted[DatasetInvL.X_test['CODE_GENDER'].values == 1]"
   ]
  },
  {
   "cell_type": "code",
   "execution_count": 63,
   "metadata": {},
   "outputs": [
    {
     "data": {
      "text/plain": [
       "0.6027930402930403"
      ]
     },
     "execution_count": 63,
     "metadata": {},
     "output_type": "execute_result"
    }
   ],
   "source": [
    "len(men_1[men_1 == 0])/len(men_1[men_1 == 1])"
   ]
  },
  {
   "cell_type": "code",
   "execution_count": 64,
   "metadata": {},
   "outputs": [
    {
     "data": {
      "text/plain": [
       "0.8239366515837104"
      ]
     },
     "execution_count": 64,
     "metadata": {},
     "output_type": "execute_result"
    }
   ],
   "source": [
    "len(women_1[women_1 == 0])/len(women_1[women_1 == 1])"
   ]
  },
  {
   "cell_type": "code",
   "execution_count": 66,
   "metadata": {},
   "outputs": [
    {
     "data": {
      "image/png": "[encoded data removed]",
      "text/plain": [
       "<Figure size 640x480 with 1 Axes>"
      ]
     },
     "metadata": {},
     "output_type": "display_data"
    }
   ],
   "source": [
    "x = [len(men_0[men_0 == 0]), len(women_0[women_0 == 0]), len(men_1[men_1 == 0]), len(women_1[women_1 == 0])]\n",
    "y = [len(men_0[men_0 == 1]), len(women_0[women_0 == 1]), len(men_1[men_1 == 1]), len(women_1[women_1 == 1])]\n",
    "plt.figure(0)\n",
    "plt.scatter(x, y,c=['blue', 'green', 'yellow', 'red'])\n",
    "# plt.plot(x[:2], y[:2], 'k-', lw=2)\n",
    "plt.arrow(x[0], y[0], x[1] - x[0], y[1] - y[0], head_width=200, head_length=500, fc='k', ec='k')\n",
    "plt.arrow(x[2], y[2], x[3] - x[2], y[3] - y[2], head_width=200, head_length=500, fc='k', ec='k')\n",
    "for i in range(len(x)):\n",
    "    plt.annotate(f'({x[i]}, {y[i]})', (x[i], y[i]), textcoords=\"offset points\", xytext=(0,10), ha='center')\n",
    "plt.savefig(\"outputs/output_drop_gender_fairness1.png\")\n",
    "# plt.plot(x[2:], y[2:], 'k-', lw=2)"
   ]
  },
  {
   "cell_type": "code",
   "execution_count": null,
   "metadata": {},
   "outputs": [],
   "source": []
  }
 ],
 "metadata": {
  "kernelspec": {
   "display_name": "pytorch",
   "language": "python",
   "name": "python3"
  },
  "language_info": {
   "codemirror_mode": {
    "name": "ipython",
    "version": 3
   },
   "file_extension": ".py",
   "mimetype": "text/x-python",
   "name": "python",
   "nbconvert_exporter": "python",
   "pygments_lexer": "ipython3",
   "version": "3.11.2"
  }
 },
 "nbformat": 4,
 "nbformat_minor": 2
}
